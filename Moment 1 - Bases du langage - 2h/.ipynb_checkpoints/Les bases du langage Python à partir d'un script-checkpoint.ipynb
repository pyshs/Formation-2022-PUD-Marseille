{
 "cells": [
  {
   "cell_type": "markdown",
   "metadata": {},
   "source": [
    "# Les bases du langage Python\n",
    "\n",
    "- Prendre un script\n",
    "- L'exécuter (Console, Jupyter, etc.)\n",
    "- Le décortiquer"
   ]
  },
  {
   "cell_type": "markdown",
   "metadata": {},
   "source": [
    "## Notions à aborder\n",
    "\n",
    "- présentation du Notebook & des raccourcis\n",
    "- la structure d'un script\n",
    "- définir, nom : les entités\n",
    "- les commentaires\n",
    "- des mots clés définis : https://docs.python.org/2/reference/lexical_analysis.html?highlight=keywords#keywords -> un petit nombre d'éléments à mémoriser...\n",
    "- les erreurs\n",
    "- espaces, saut de ligne, parenthèse, etc.\n",
    "- des variables et des fonctions (introduire la fonction types)\n",
    "- différents types (built in types : https://docs.python.org/3/library/stdtypes.html)\n",
    " - int & float\n",
    " - chaînes de caractères\n",
    " - listes\n",
    " - dictionnaires\n",
    " - tuples\n",
    " - booléens\n",
    " - sets\n",
    "- variable et objet : des propriétés et des méthodes (utiliser dir & l'introspection)\n",
    "- les fonctions prédéfinies (len, type, print, str, range, round, etc.) + des modules déjà chargés\n",
    "- utiliser l'aide\n",
    "- l'évaluation d'une condition (introduire in, ==, etc.)\n",
    "- les blocs qui organisent le script :\n",
    " - condition et if (mot clé in, opérateurs and, etc.)\n",
    " - boucles\n",
    " - présenter rapidement la compréhension de liste\n",
    "- écrire dans un fichier : bloc with\n",
    " - écrire le résultat du script\n",
    "- définir une fonction\n"
   ]
  },
  {
   "cell_type": "markdown",
   "metadata": {},
   "source": [
    "### Exercice\n",
    "\n",
    "- créer une fonction qui fait les étapes de compter le nombre de mots à partir d'un certain seul pour renvoyer le pourcentage\n",
    "- appliquer cette fonction à un texte stocké dans un fichier"
   ]
  }
 ],
 "metadata": {
  "kernelspec": {
   "display_name": "Python 3 (ipykernel)",
   "language": "python",
   "name": "python3"
  },
  "language_info": {
   "codemirror_mode": {
    "name": "ipython",
    "version": 3
   },
   "file_extension": ".py",
   "mimetype": "text/x-python",
   "name": "python",
   "nbconvert_exporter": "python",
   "pygments_lexer": "ipython3",
   "version": "3.10.4"
  }
 },
 "nbformat": 4,
 "nbformat_minor": 4
}
