{
 "cells": [
  {
   "cell_type": "markdown",
   "id": "fb48c744",
   "metadata": {},
   "source": [
    "# Mon premier notebook"
   ]
  },
  {
   "cell_type": "markdown",
   "id": "8ff22f5b",
   "metadata": {},
   "source": [
    "Faire un calcul simple"
   ]
  },
  {
   "cell_type": "code",
   "execution_count": 5,
   "id": "0e36a2ed",
   "metadata": {},
   "outputs": [
    {
     "data": {
      "text/plain": [
       "20"
      ]
     },
     "execution_count": 5,
     "metadata": {},
     "output_type": "execute_result"
    }
   ],
   "source": [
    "10+10"
   ]
  },
  {
   "cell_type": "markdown",
   "id": "2315016a",
   "metadata": {},
   "source": [
    "Exécuter un script"
   ]
  },
  {
   "cell_type": "code",
   "execution_count": 102,
   "id": "7ceb4afc",
   "metadata": {},
   "outputs": [
    {
     "name": "stdout",
     "output_type": "stream",
     "text": [
      "Écrivez une phrase: Ceci est ma phrase de test pour voir\n",
      "Proportion de mots avec 4 lettres ou plus : 62.5\n"
     ]
    }
   ],
   "source": [
    "# Définir une variable à 0\n",
    "nombre_mots = 0\n",
    "# Définir une variable à vrai\n",
    "sortie_fichier = True\n",
    "# Récupérer une entrée clavier et la stocker\n",
    "phrase = input(\"Écrivez une phrase: \")\n",
    "# Découper la phrase en mots\n",
    "liste_mots = phrase.split(\" \")\n",
    "# Actualise la valeur de la variable\n",
    "nombre_mots = len(liste_mots)\n",
    "# Définir une variable à 4\n",
    "nombre_min_lettres = 4\n",
    "\n",
    "if nombre_mots == 0:\n",
    "    print(\"La liste est vide\")\n",
    "else:\n",
    "    compteur = 0\n",
    "    for i in liste_mots:\n",
    "        if len(i) >= nombre_min_lettres:\n",
    "            compteur+=1\n",
    "    proportion = round(100*compteur/nombre_mots,2)\n",
    "    informations = {\"Total\":compteur,\"Proportion\":proportion,\n",
    "                   \"Phrase\":phrase,\"Seuil\":nombre_min_lettres}\n",
    "    sortie = f\"Proportion de mots avec {nombre_min_lettres} lettres ou plus : {proportion}\"\n",
    "    print(sortie)\n",
    "    if sortie_fichier:\n",
    "        with open(\"resultat.txt\",\"w\") as f:\n",
    "            f.write(str(informations))"
   ]
  },
  {
   "cell_type": "markdown",
   "id": "db911e45",
   "metadata": {},
   "source": [
    "## Dissection du script"
   ]
  },
  {
   "cell_type": "markdown",
   "id": "d901f62e",
   "metadata": {},
   "source": [
    "### Première ligne"
   ]
  },
  {
   "cell_type": "code",
   "execution_count": 10,
   "id": "05f6fc22",
   "metadata": {},
   "outputs": [],
   "source": [
    "nombre_mots = 0"
   ]
  },
  {
   "cell_type": "code",
   "execution_count": 17,
   "id": "e48391d0",
   "metadata": {},
   "outputs": [
    {
     "data": {
      "text/plain": [
       "110"
      ]
     },
     "execution_count": 17,
     "metadata": {},
     "output_type": "execute_result"
    }
   ],
   "source": [
    "nombre_mots + 10"
   ]
  },
  {
   "cell_type": "code",
   "execution_count": 15,
   "id": "51d8a506",
   "metadata": {},
   "outputs": [],
   "source": [
    "nombre_mots = 100"
   ]
  },
  {
   "cell_type": "code",
   "execution_count": 16,
   "id": "af4bebd1",
   "metadata": {},
   "outputs": [
    {
     "data": {
      "text/plain": [
       "100"
      ]
     },
     "execution_count": 16,
     "metadata": {},
     "output_type": "execute_result"
    }
   ],
   "source": [
    "nombre_mots"
   ]
  },
  {
   "cell_type": "markdown",
   "id": "437e8f41",
   "metadata": {},
   "source": [
    "Connaitre le type d'une variable"
   ]
  },
  {
   "cell_type": "code",
   "execution_count": 18,
   "id": "868f0757",
   "metadata": {},
   "outputs": [
    {
     "data": {
      "text/plain": [
       "int"
      ]
     },
     "execution_count": 18,
     "metadata": {},
     "output_type": "execute_result"
    }
   ],
   "source": [
    "type(nombre_mots)"
   ]
  },
  {
   "cell_type": "code",
   "execution_count": 19,
   "id": "d94d044e",
   "metadata": {},
   "outputs": [
    {
     "data": {
      "text/plain": [
       "int"
      ]
     },
     "execution_count": 19,
     "metadata": {},
     "output_type": "execute_result"
    }
   ],
   "source": [
    "type(0)"
   ]
  },
  {
   "cell_type": "code",
   "execution_count": 20,
   "id": "2e025257",
   "metadata": {
    "scrolled": true
   },
   "outputs": [
    {
     "data": {
      "text/plain": [
       "int"
      ]
     },
     "execution_count": 20,
     "metadata": {},
     "output_type": "execute_result"
    }
   ],
   "source": [
    "type(100)"
   ]
  },
  {
   "cell_type": "markdown",
   "id": "b63ed0ff",
   "metadata": {},
   "source": [
    "Aide pour les fonctions"
   ]
  },
  {
   "cell_type": "code",
   "execution_count": 21,
   "id": "b472e64d",
   "metadata": {},
   "outputs": [],
   "source": [
    "?type"
   ]
  },
  {
   "cell_type": "code",
   "execution_count": 22,
   "id": "88c504c1",
   "metadata": {},
   "outputs": [],
   "source": [
    "?round"
   ]
  },
  {
   "cell_type": "code",
   "execution_count": 24,
   "id": "b44209dc",
   "metadata": {},
   "outputs": [
    {
     "data": {
      "text/plain": [
       "10.111"
      ]
     },
     "execution_count": 24,
     "metadata": {},
     "output_type": "execute_result"
    }
   ],
   "source": [
    "round(10.111111,3)"
   ]
  },
  {
   "cell_type": "markdown",
   "id": "b099b21e",
   "metadata": {},
   "source": [
    "### Deuxième ligne"
   ]
  },
  {
   "cell_type": "code",
   "execution_count": 25,
   "id": "deb9e5cb",
   "metadata": {},
   "outputs": [],
   "source": [
    "sortie_fichier = True"
   ]
  },
  {
   "cell_type": "code",
   "execution_count": 26,
   "id": "a9aa0bf2",
   "metadata": {},
   "outputs": [
    {
     "data": {
      "text/plain": [
       "bool"
      ]
     },
     "execution_count": 26,
     "metadata": {},
     "output_type": "execute_result"
    }
   ],
   "source": [
    "type(True)"
   ]
  },
  {
   "cell_type": "code",
   "execution_count": 28,
   "id": "0e5108e5",
   "metadata": {},
   "outputs": [
    {
     "ename": "SyntaxError",
     "evalue": "cannot assign to False (2005507881.py, line 1)",
     "output_type": "error",
     "traceback": [
      "\u001b[0;36m  Input \u001b[0;32mIn [28]\u001b[0;36m\u001b[0m\n\u001b[0;31m    False = 10\u001b[0m\n\u001b[0m    ^\u001b[0m\n\u001b[0;31mSyntaxError\u001b[0m\u001b[0;31m:\u001b[0m cannot assign to False\n"
     ]
    }
   ],
   "source": [
    "False = 10"
   ]
  },
  {
   "cell_type": "code",
   "execution_count": 29,
   "id": "e6d3ca16",
   "metadata": {},
   "outputs": [
    {
     "ename": "NameError",
     "evalue": "name 'sortie_fichie' is not defined",
     "output_type": "error",
     "traceback": [
      "\u001b[0;31m---------------------------------------------------------------------------\u001b[0m",
      "\u001b[0;31mNameError\u001b[0m                                 Traceback (most recent call last)",
      "Input \u001b[0;32mIn [29]\u001b[0m, in \u001b[0;36m<cell line: 1>\u001b[0;34m()\u001b[0m\n\u001b[0;32m----> 1\u001b[0m \u001b[43msortie_fichie\u001b[49m\n",
      "\u001b[0;31mNameError\u001b[0m: name 'sortie_fichie' is not defined"
     ]
    }
   ],
   "source": [
    "sortie_fichie"
   ]
  },
  {
   "cell_type": "markdown",
   "id": "6387daca",
   "metadata": {},
   "source": [
    "Important de lire les erreurs"
   ]
  },
  {
   "cell_type": "code",
   "execution_count": 30,
   "id": "9d907656",
   "metadata": {},
   "outputs": [
    {
     "data": {
      "text/plain": [
       "11"
      ]
     },
     "execution_count": 30,
     "metadata": {},
     "output_type": "execute_result"
    }
   ],
   "source": [
    "True + 10"
   ]
  },
  {
   "cell_type": "markdown",
   "id": "5763c503",
   "metadata": {},
   "source": [
    "### Troisième ligne"
   ]
  },
  {
   "cell_type": "code",
   "execution_count": 38,
   "id": "2cc5dc39",
   "metadata": {},
   "outputs": [
    {
     "name": "stdout",
     "output_type": "stream",
     "text": [
      "Écrivez une phrase: sqqdsdq\n"
     ]
    }
   ],
   "source": [
    "phrase    =   input(\"Écrivez une phrase: \"    )"
   ]
  },
  {
   "cell_type": "code",
   "execution_count": 32,
   "id": "02bd516d",
   "metadata": {},
   "outputs": [
    {
     "data": {
      "text/plain": [
       "'qui permet de mettre une phrase'"
      ]
     },
     "execution_count": 32,
     "metadata": {},
     "output_type": "execute_result"
    }
   ],
   "source": [
    "phrase"
   ]
  },
  {
   "cell_type": "code",
   "execution_count": 33,
   "id": "2b2a9d83",
   "metadata": {},
   "outputs": [
    {
     "name": "stdout",
     "output_type": "stream",
     "text": [
      "dsqd dqs\n"
     ]
    },
    {
     "data": {
      "text/plain": [
       "'dsqd dqs'"
      ]
     },
     "execution_count": 33,
     "metadata": {},
     "output_type": "execute_result"
    }
   ],
   "source": [
    "input()"
   ]
  },
  {
   "cell_type": "code",
   "execution_count": 34,
   "id": "0e471b1f",
   "metadata": {},
   "outputs": [],
   "source": [
    "?input"
   ]
  },
  {
   "cell_type": "code",
   "execution_count": 40,
   "id": "076466ee",
   "metadata": {},
   "outputs": [
    {
     "data": {
      "text/plain": [
       "str"
      ]
     },
     "execution_count": 40,
     "metadata": {},
     "output_type": "execute_result"
    }
   ],
   "source": [
    "type(phrase)"
   ]
  },
  {
   "cell_type": "code",
   "execution_count": 46,
   "id": "303cade4",
   "metadata": {},
   "outputs": [
    {
     "data": {
      "text/plain": [
       "'ceci est une chaine et ceci est une autre'"
      ]
     },
     "execution_count": 46,
     "metadata": {},
     "output_type": "execute_result"
    }
   ],
   "source": [
    "\"ceci est une chaine\" + \" et ceci est une autre\""
   ]
  },
  {
   "cell_type": "code",
   "execution_count": 47,
   "id": "3303b8b8",
   "metadata": {},
   "outputs": [
    {
     "data": {
      "text/plain": [
       "'ceci est un 0'"
      ]
     },
     "execution_count": 47,
     "metadata": {},
     "output_type": "execute_result"
    }
   ],
   "source": [
    "\"ceci est un \" + str(0)"
   ]
  },
  {
   "cell_type": "code",
   "execution_count": 48,
   "id": "04e8ad52",
   "metadata": {},
   "outputs": [
    {
     "data": {
      "text/plain": [
       "'SQQDSDQ'"
      ]
     },
     "execution_count": 48,
     "metadata": {},
     "output_type": "execute_result"
    }
   ],
   "source": [
    "phrase.upper()"
   ]
  },
  {
   "cell_type": "code",
   "execution_count": 49,
   "id": "0379a09e",
   "metadata": {},
   "outputs": [
    {
     "data": {
      "text/plain": [
       "'CECI EST UNE CHAINE'"
      ]
     },
     "execution_count": 49,
     "metadata": {},
     "output_type": "execute_result"
    }
   ],
   "source": [
    "\"ceci est une chaine\".upper()"
   ]
  },
  {
   "cell_type": "code",
   "execution_count": 51,
   "id": "32e6a130",
   "metadata": {},
   "outputs": [],
   "source": [
    "#dir(phrase)"
   ]
  },
  {
   "cell_type": "code",
   "execution_count": 52,
   "id": "724f541d",
   "metadata": {},
   "outputs": [
    {
     "data": {
      "text/plain": [
       "7"
      ]
     },
     "execution_count": 52,
     "metadata": {},
     "output_type": "execute_result"
    }
   ],
   "source": [
    "len(phrase)"
   ]
  },
  {
   "cell_type": "markdown",
   "id": "38bdcef5",
   "metadata": {},
   "source": [
    "### Quatrième ligne"
   ]
  },
  {
   "cell_type": "code",
   "execution_count": 62,
   "id": "78984551",
   "metadata": {},
   "outputs": [],
   "source": [
    "liste_mots = phrase.split(\" \")"
   ]
  },
  {
   "cell_type": "code",
   "execution_count": 59,
   "id": "a3ee9d88",
   "metadata": {},
   "outputs": [
    {
     "data": {
      "text/plain": [
       "['Ceci', 'est', 'ma', 'phrase']"
      ]
     },
     "execution_count": 59,
     "metadata": {},
     "output_type": "execute_result"
    }
   ],
   "source": [
    "phrase.split(\" \")"
   ]
  },
  {
   "cell_type": "code",
   "execution_count": 60,
   "id": "3cc22254",
   "metadata": {},
   "outputs": [
    {
     "data": {
      "text/plain": [
       "list"
      ]
     },
     "execution_count": 60,
     "metadata": {},
     "output_type": "execute_result"
    }
   ],
   "source": [
    "type(phrase.split(\" \"))"
   ]
  },
  {
   "cell_type": "code",
   "execution_count": 63,
   "id": "ae5156b8",
   "metadata": {},
   "outputs": [
    {
     "data": {
      "text/plain": [
       "['Ceci', 'est', 'ma', 'phrase']"
      ]
     },
     "execution_count": 63,
     "metadata": {},
     "output_type": "execute_result"
    }
   ],
   "source": [
    "liste_mots"
   ]
  },
  {
   "cell_type": "code",
   "execution_count": 74,
   "id": "ad34c796",
   "metadata": {},
   "outputs": [],
   "source": [
    "ma_liste = [\n",
    "            1,\n",
    "            \"deux\",\n",
    "            True\n",
    "           ]"
   ]
  },
  {
   "cell_type": "code",
   "execution_count": 66,
   "id": "f901a30b",
   "metadata": {},
   "outputs": [
    {
     "data": {
      "text/plain": [
       "3"
      ]
     },
     "execution_count": 66,
     "metadata": {},
     "output_type": "execute_result"
    }
   ],
   "source": [
    "len(ma_liste)"
   ]
  },
  {
   "cell_type": "code",
   "execution_count": 71,
   "id": "bab67a17",
   "metadata": {},
   "outputs": [
    {
     "data": {
      "text/plain": [
       "True"
      ]
     },
     "execution_count": 71,
     "metadata": {},
     "output_type": "execute_result"
    }
   ],
   "source": [
    "ma_liste[2]"
   ]
  },
  {
   "cell_type": "code",
   "execution_count": 72,
   "id": "e3f79bc0",
   "metadata": {},
   "outputs": [],
   "source": [
    "ma_liste.append(\"nouvel élément\")"
   ]
  },
  {
   "cell_type": "code",
   "execution_count": 73,
   "id": "f876a175",
   "metadata": {},
   "outputs": [
    {
     "data": {
      "text/plain": [
       "[1, 'deux', True, 'nouvel élément']"
      ]
     },
     "execution_count": 73,
     "metadata": {},
     "output_type": "execute_result"
    }
   ],
   "source": [
    "ma_liste"
   ]
  },
  {
   "cell_type": "code",
   "execution_count": 79,
   "id": "3c799ecf",
   "metadata": {},
   "outputs": [
    {
     "data": {
      "text/plain": [
       "['deux', True]"
      ]
     },
     "execution_count": 79,
     "metadata": {},
     "output_type": "execute_result"
    }
   ],
   "source": [
    "ma_liste[1:3]"
   ]
  },
  {
   "cell_type": "markdown",
   "id": "ccf4f8d7",
   "metadata": {},
   "source": [
    "### Cinquième ligne"
   ]
  },
  {
   "cell_type": "code",
   "execution_count": 80,
   "id": "aee63334",
   "metadata": {},
   "outputs": [],
   "source": [
    "nombre_mots = len(liste_mots)"
   ]
  },
  {
   "cell_type": "code",
   "execution_count": 81,
   "id": "9c756022",
   "metadata": {},
   "outputs": [
    {
     "data": {
      "text/plain": [
       "4"
      ]
     },
     "execution_count": 81,
     "metadata": {},
     "output_type": "execute_result"
    }
   ],
   "source": [
    "nombre_mots"
   ]
  },
  {
   "cell_type": "markdown",
   "id": "6717e141",
   "metadata": {},
   "source": [
    "## Apparte sur les conditions"
   ]
  },
  {
   "cell_type": "code",
   "execution_count": 82,
   "id": "a27f7f6b",
   "metadata": {},
   "outputs": [],
   "source": [
    "variable1 = 10\n",
    "variable2 = 100"
   ]
  },
  {
   "cell_type": "code",
   "execution_count": 84,
   "id": "21c34b12",
   "metadata": {
    "scrolled": true
   },
   "outputs": [
    {
     "data": {
      "text/plain": [
       "True"
      ]
     },
     "execution_count": 84,
     "metadata": {},
     "output_type": "execute_result"
    }
   ],
   "source": [
    "variable1 > 0"
   ]
  },
  {
   "cell_type": "code",
   "execution_count": 86,
   "id": "be6d04b4",
   "metadata": {},
   "outputs": [
    {
     "data": {
      "text/plain": [
       "True"
      ]
     },
     "execution_count": 86,
     "metadata": {},
     "output_type": "execute_result"
    }
   ],
   "source": [
    "variable2>0"
   ]
  },
  {
   "cell_type": "code",
   "execution_count": 87,
   "id": "d97fcc8c",
   "metadata": {},
   "outputs": [
    {
     "data": {
      "text/plain": [
       "True"
      ]
     },
     "execution_count": 87,
     "metadata": {},
     "output_type": "execute_result"
    }
   ],
   "source": [
    "variable1 > 0 and variable2>10"
   ]
  },
  {
   "cell_type": "code",
   "execution_count": 88,
   "id": "0652d9a8",
   "metadata": {},
   "outputs": [
    {
     "data": {
      "text/plain": [
       "False"
      ]
     },
     "execution_count": 88,
     "metadata": {},
     "output_type": "execute_result"
    }
   ],
   "source": [
    "\"chat\" in [\"1\",2,\"chien\"]"
   ]
  },
  {
   "cell_type": "code",
   "execution_count": 89,
   "id": "9557582a",
   "metadata": {},
   "outputs": [
    {
     "data": {
      "text/plain": [
       "False"
      ]
     },
     "execution_count": 89,
     "metadata": {},
     "output_type": "execute_result"
    }
   ],
   "source": [
    "type(\"chat\")==int"
   ]
  },
  {
   "cell_type": "markdown",
   "id": "30a857a9",
   "metadata": {},
   "source": [
    "Embranchement if\n",
    "\n",
    "``` python \n",
    "if PROPOSITION:\n",
    "    action si True\n",
    "```"
   ]
  },
  {
   "cell_type": "code",
   "execution_count": 91,
   "id": "855205bb",
   "metadata": {},
   "outputs": [],
   "source": [
    "if False:\n",
    "    print(\"Ceci est l'action\")"
   ]
  },
  {
   "cell_type": "markdown",
   "id": "45fb949f",
   "metadata": {},
   "source": [
    "Embranchement if\n",
    "\n",
    "``` python \n",
    "if PROPOSITION:\n",
    "    action si True\n",
    "elif PROPOSITION2:\n",
    "    action si True\n",
    "else:\n",
    "    action si False\n",
    "```"
   ]
  },
  {
   "cell_type": "markdown",
   "id": "022e59d6",
   "metadata": {},
   "source": [
    "### Bloc si la liste n'est pas vide"
   ]
  },
  {
   "cell_type": "code",
   "execution_count": 128,
   "id": "da8c1379",
   "metadata": {},
   "outputs": [
    {
     "name": "stdout",
     "output_type": "stream",
     "text": [
      "Proportion de mots avec 4 lettres ou plus : 62.5\n"
     ]
    }
   ],
   "source": [
    "# Définir une variable à 0\n",
    "compteur = 0\n",
    "# Boucle sur la liste de mots \n",
    "for i in liste_mots:\n",
    "    # Condition sur la longueur du mot (si supérieur à nombre min de lettre)\n",
    "    if len(i) >= nombre_min_lettres:\n",
    "        # Augmenter de 1 le compteur\n",
    "        compteur+=1\n",
    "# Calcul de proportion        \n",
    "proportion = round(100*compteur/nombre_mots,2)\n",
    "\n",
    "# Créer une chaine de caractère de mise en forme\n",
    "sortie = f\"Proportion de mots avec {nombre_min_lettres} lettres ou plus : {proportion}\"\n",
    "\n",
    "\n",
    "\n",
    "\n",
    "# Définit un dictionnaire qui synthétise l'information\n",
    "informations = {\"Total\":compteur,\"Proportion\":proportion,\n",
    "               \"Phrase\":phrase,\"Seuil\":nombre_min_lettres}\n",
    "\n",
    "# si on veut une sortie fichier\n",
    "if sortie_fichier:\n",
    "    # Créer un fichier résultat\n",
    "    with open(\"resultat.txt\",\"w\") as f:\n",
    "        # Écrire le dictionnaire de résumé\n",
    "        f.write(str(informations))\n",
    "\n",
    "\n",
    "# Afficher une chaine de caractère\n",
    "print(sortie)\n"
   ]
  },
  {
   "cell_type": "markdown",
   "id": "e3ad8cf9",
   "metadata": {},
   "source": [
    "### Boucle en Python\n",
    "\n",
    "```python\n",
    "for variable_iterative in ensemble:\n",
    "    faire quelque chose avec variable_iterative\n",
    "```"
   ]
  },
  {
   "cell_type": "code",
   "execution_count": 98,
   "id": "96eea7e7",
   "metadata": {},
   "outputs": [
    {
     "name": "stdout",
     "output_type": "stream",
     "text": [
      "3\n",
      "2\n",
      "4\n",
      "4\n"
     ]
    }
   ],
   "source": [
    "for el in [\"dix\",\"20\",\"cinq\",\"test\"]:\n",
    "    print(len(el))"
   ]
  },
  {
   "cell_type": "code",
   "execution_count": 99,
   "id": "5cc9d25f",
   "metadata": {},
   "outputs": [],
   "source": [
    "# Définir une variable à 0\n",
    "compteur = 0\n",
    "# Boucle sur la liste de mots \n",
    "for i in liste_mots:\n",
    "    # Condition sur la longueur du mot (si supérieur à nombre min de lettre)\n",
    "    if len(i) >= nombre_min_lettres:\n",
    "        # Augmenter de 1 le compteur\n",
    "        compteur+=1"
   ]
  },
  {
   "cell_type": "markdown",
   "id": "f59bd17a",
   "metadata": {},
   "source": [
    "Pour information"
   ]
  },
  {
   "cell_type": "code",
   "execution_count": 104,
   "id": "ad29ff0b",
   "metadata": {},
   "outputs": [
    {
     "data": {
      "text/plain": [
       "5"
      ]
     },
     "execution_count": 104,
     "metadata": {},
     "output_type": "execute_result"
    }
   ],
   "source": [
    "sum([1 for i in liste_mots if len(i)>=nombre_min_lettres])"
   ]
  },
  {
   "cell_type": "code",
   "execution_count": 105,
   "id": "ce48f617",
   "metadata": {},
   "outputs": [
    {
     "data": {
      "text/plain": [
       "[1, 1, 1, 1, 1]"
      ]
     },
     "execution_count": 105,
     "metadata": {},
     "output_type": "execute_result"
    }
   ],
   "source": [
    "[1 for i in liste_mots if len(i)>=nombre_min_lettres]"
   ]
  },
  {
   "cell_type": "code",
   "execution_count": 101,
   "id": "8cdf1961",
   "metadata": {},
   "outputs": [
    {
     "data": {
      "text/plain": [
       "['']"
      ]
     },
     "execution_count": 101,
     "metadata": {},
     "output_type": "execute_result"
    }
   ],
   "source": [
    "liste_mots"
   ]
  },
  {
   "cell_type": "markdown",
   "id": "54a27bf8",
   "metadata": {},
   "source": [
    "### Ligne X"
   ]
  },
  {
   "cell_type": "code",
   "execution_count": 107,
   "id": "7ea883c1",
   "metadata": {},
   "outputs": [],
   "source": [
    "informations = {\n",
    "                \"Total\":compteur,\n",
    "                \"Proportion\":proportion,\n",
    "                \"Phrase\":phrase,\n",
    "                \"Seuil\":nombre_min_lettres\n",
    "                }"
   ]
  },
  {
   "cell_type": "code",
   "execution_count": 118,
   "id": "bff3fd8a",
   "metadata": {},
   "outputs": [
    {
     "data": {
      "text/plain": [
       "62.5"
      ]
     },
     "execution_count": 118,
     "metadata": {},
     "output_type": "execute_result"
    }
   ],
   "source": [
    "informations[\"Proportion\"]"
   ]
  },
  {
   "cell_type": "code",
   "execution_count": 108,
   "id": "d649d92b",
   "metadata": {},
   "outputs": [
    {
     "data": {
      "text/plain": [
       "dict"
      ]
     },
     "execution_count": 108,
     "metadata": {},
     "output_type": "execute_result"
    }
   ],
   "source": [
    "type(informations)"
   ]
  },
  {
   "cell_type": "code",
   "execution_count": 109,
   "id": "5062a417",
   "metadata": {},
   "outputs": [],
   "source": [
    "dictionnaire = {\"clé1\":\"valeur1\",\n",
    "                \"clé2\":\"valeur2\"}"
   ]
  },
  {
   "cell_type": "code",
   "execution_count": 112,
   "id": "4b38e3c2",
   "metadata": {},
   "outputs": [
    {
     "data": {
      "text/plain": [
       "'valeur2'"
      ]
     },
     "execution_count": 112,
     "metadata": {},
     "output_type": "execute_result"
    }
   ],
   "source": [
    "dictionnaire[\"clé2\"]"
   ]
  },
  {
   "cell_type": "code",
   "execution_count": 113,
   "id": "7013f34d",
   "metadata": {},
   "outputs": [],
   "source": [
    "dictionnaire[\"nouvelle_clé\"] = \"nouvelle_valeur\""
   ]
  },
  {
   "cell_type": "code",
   "execution_count": 114,
   "id": "66ab6605",
   "metadata": {},
   "outputs": [
    {
     "data": {
      "text/plain": [
       "{'clé1': 'valeur1', 'clé2': 'valeur2', 'nouvelle_clé': 'nouvelle_valeur'}"
      ]
     },
     "execution_count": 114,
     "metadata": {},
     "output_type": "execute_result"
    }
   ],
   "source": [
    "dictionnaire"
   ]
  },
  {
   "cell_type": "code",
   "execution_count": 115,
   "id": "38f1c268",
   "metadata": {},
   "outputs": [
    {
     "data": {
      "text/plain": [
       "dict_keys(['clé1', 'clé2', 'nouvelle_clé'])"
      ]
     },
     "execution_count": 115,
     "metadata": {},
     "output_type": "execute_result"
    }
   ],
   "source": [
    "dictionnaire.keys()"
   ]
  },
  {
   "cell_type": "code",
   "execution_count": 120,
   "id": "62eeafdd",
   "metadata": {},
   "outputs": [
    {
     "name": "stdout",
     "output_type": "stream",
     "text": [
      "5\n",
      "62.5\n",
      "Ceci est ma phrase de test pour voir\n",
      "4\n"
     ]
    }
   ],
   "source": [
    "for element in informations:\n",
    "    print(informations[element])"
   ]
  },
  {
   "cell_type": "markdown",
   "id": "880bbb6c",
   "metadata": {},
   "source": [
    "### Ligne X+1"
   ]
  },
  {
   "cell_type": "code",
   "execution_count": 121,
   "id": "dcd4b86f",
   "metadata": {},
   "outputs": [],
   "source": [
    "sortie = f\"Proportion de mots avec {nombre_min_lettres} lettres ou plus : {proportion}\""
   ]
  },
  {
   "cell_type": "markdown",
   "id": "3889506b",
   "metadata": {},
   "source": [
    "f-string"
   ]
  },
  {
   "cell_type": "code",
   "execution_count": 124,
   "id": "0aaf0aba",
   "metadata": {},
   "outputs": [
    {
     "data": {
      "text/plain": [
       "'Proportion de mots avec 4 lettres ou plus : 62.5'"
      ]
     },
     "execution_count": 124,
     "metadata": {},
     "output_type": "execute_result"
    }
   ],
   "source": [
    "\"Proportion de mots avec \"+ str(nombre_min_lettres)+ \" lettres ou plus : \"+str(proportion)"
   ]
  },
  {
   "cell_type": "markdown",
   "id": "c813bfa9",
   "metadata": {},
   "source": [
    "## Ecrire sur l'ordinateur"
   ]
  },
  {
   "cell_type": "code",
   "execution_count": 125,
   "id": "df3f5955",
   "metadata": {},
   "outputs": [],
   "source": [
    "with open(\"nom_du_fichier.txt\",\"w\") as fichier:\n",
    "    fichier.write(\"Ceci est une phrase\")"
   ]
  },
  {
   "cell_type": "code",
   "execution_count": 127,
   "id": "18a7cf8d",
   "metadata": {},
   "outputs": [
    {
     "name": "stdout",
     "output_type": "stream",
     "text": [
      "Ceci est une phrase"
     ]
    }
   ],
   "source": [
    "cat nom_du_fichier.txt"
   ]
  }
 ],
 "metadata": {
  "kernelspec": {
   "display_name": "Python 3 (ipykernel)",
   "language": "python",
   "name": "python3"
  },
  "language_info": {
   "codemirror_mode": {
    "name": "ipython",
    "version": 3
   },
   "file_extension": ".py",
   "mimetype": "text/x-python",
   "name": "python",
   "nbconvert_exporter": "python",
   "pygments_lexer": "ipython3",
   "version": "3.9.12"
  }
 },
 "nbformat": 4,
 "nbformat_minor": 5
}
