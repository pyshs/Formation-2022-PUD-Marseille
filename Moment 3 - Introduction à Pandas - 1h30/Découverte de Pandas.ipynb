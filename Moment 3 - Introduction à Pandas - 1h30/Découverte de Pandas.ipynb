{
 "cells": [
  {
   "cell_type": "markdown",
   "id": "d6386a35",
   "metadata": {},
   "source": [
    "# Pandas"
   ]
  },
  {
   "cell_type": "markdown",
   "id": "6884e013",
   "metadata": {},
   "source": [
    "### Chargement et objet central"
   ]
  },
  {
   "cell_type": "code",
   "execution_count": 1,
   "id": "a073ef0a",
   "metadata": {},
   "outputs": [],
   "source": [
    "import pandas as pd"
   ]
  },
  {
   "cell_type": "code",
   "execution_count": 7,
   "id": "29490650",
   "metadata": {},
   "outputs": [],
   "source": [
    "df = pd.DataFrame([\n",
    "                   [\"A\",\"B\",\"C\"],\n",
    "                   [1,2,3],\n",
    "                   [\".\",\"#\",\",\"],\n",
    "                   [None,None,None]\n",
    "                  ]\n",
    "                 )"
   ]
  },
  {
   "cell_type": "code",
   "execution_count": 8,
   "id": "3c85b244",
   "metadata": {},
   "outputs": [
    {
     "data": {
      "text/html": [
       "<div>\n",
       "<style scoped>\n",
       "    .dataframe tbody tr th:only-of-type {\n",
       "        vertical-align: middle;\n",
       "    }\n",
       "\n",
       "    .dataframe tbody tr th {\n",
       "        vertical-align: top;\n",
       "    }\n",
       "\n",
       "    .dataframe thead th {\n",
       "        text-align: right;\n",
       "    }\n",
       "</style>\n",
       "<table border=\"1\" class=\"dataframe\">\n",
       "  <thead>\n",
       "    <tr style=\"text-align: right;\">\n",
       "      <th></th>\n",
       "      <th>0</th>\n",
       "      <th>1</th>\n",
       "      <th>2</th>\n",
       "    </tr>\n",
       "  </thead>\n",
       "  <tbody>\n",
       "    <tr>\n",
       "      <th>0</th>\n",
       "      <td>A</td>\n",
       "      <td>B</td>\n",
       "      <td>C</td>\n",
       "    </tr>\n",
       "    <tr>\n",
       "      <th>1</th>\n",
       "      <td>1</td>\n",
       "      <td>2</td>\n",
       "      <td>3</td>\n",
       "    </tr>\n",
       "    <tr>\n",
       "      <th>2</th>\n",
       "      <td>.</td>\n",
       "      <td>#</td>\n",
       "      <td>,</td>\n",
       "    </tr>\n",
       "    <tr>\n",
       "      <th>3</th>\n",
       "      <td>None</td>\n",
       "      <td>None</td>\n",
       "      <td>None</td>\n",
       "    </tr>\n",
       "  </tbody>\n",
       "</table>\n",
       "</div>"
      ],
      "text/plain": [
       "      0     1     2\n",
       "0     A     B     C\n",
       "1     1     2     3\n",
       "2     .     #     ,\n",
       "3  None  None  None"
      ]
     },
     "execution_count": 8,
     "metadata": {},
     "output_type": "execute_result"
    }
   ],
   "source": [
    "df"
   ]
  },
  {
   "cell_type": "code",
   "execution_count": 5,
   "id": "3af4540a",
   "metadata": {},
   "outputs": [
    {
     "data": {
      "text/plain": [
       "pandas.core.frame.DataFrame"
      ]
     },
     "execution_count": 5,
     "metadata": {},
     "output_type": "execute_result"
    }
   ],
   "source": [
    "type(df)"
   ]
  },
  {
   "cell_type": "code",
   "execution_count": 9,
   "id": "3c3091d1",
   "metadata": {},
   "outputs": [
    {
     "data": {
      "text/plain": [
       "(4, 3)"
      ]
     },
     "execution_count": 9,
     "metadata": {},
     "output_type": "execute_result"
    }
   ],
   "source": [
    "df.shape"
   ]
  },
  {
   "cell_type": "code",
   "execution_count": 11,
   "id": "3ed36896",
   "metadata": {},
   "outputs": [],
   "source": [
    "df.columns = [\"Colonne 1\",\"Colonne 2\",\"Colonne 3\"]"
   ]
  },
  {
   "cell_type": "code",
   "execution_count": 12,
   "id": "b174619e",
   "metadata": {},
   "outputs": [
    {
     "data": {
      "text/html": [
       "<div>\n",
       "<style scoped>\n",
       "    .dataframe tbody tr th:only-of-type {\n",
       "        vertical-align: middle;\n",
       "    }\n",
       "\n",
       "    .dataframe tbody tr th {\n",
       "        vertical-align: top;\n",
       "    }\n",
       "\n",
       "    .dataframe thead th {\n",
       "        text-align: right;\n",
       "    }\n",
       "</style>\n",
       "<table border=\"1\" class=\"dataframe\">\n",
       "  <thead>\n",
       "    <tr style=\"text-align: right;\">\n",
       "      <th></th>\n",
       "      <th>Colonne 1</th>\n",
       "      <th>Colonne 2</th>\n",
       "      <th>Colonne 3</th>\n",
       "    </tr>\n",
       "  </thead>\n",
       "  <tbody>\n",
       "    <tr>\n",
       "      <th>0</th>\n",
       "      <td>A</td>\n",
       "      <td>B</td>\n",
       "      <td>C</td>\n",
       "    </tr>\n",
       "    <tr>\n",
       "      <th>1</th>\n",
       "      <td>1</td>\n",
       "      <td>2</td>\n",
       "      <td>3</td>\n",
       "    </tr>\n",
       "    <tr>\n",
       "      <th>2</th>\n",
       "      <td>.</td>\n",
       "      <td>#</td>\n",
       "      <td>,</td>\n",
       "    </tr>\n",
       "    <tr>\n",
       "      <th>3</th>\n",
       "      <td>None</td>\n",
       "      <td>None</td>\n",
       "      <td>None</td>\n",
       "    </tr>\n",
       "  </tbody>\n",
       "</table>\n",
       "</div>"
      ],
      "text/plain": [
       "  Colonne 1 Colonne 2 Colonne 3\n",
       "0         A         B         C\n",
       "1         1         2         3\n",
       "2         .         #         ,\n",
       "3      None      None      None"
      ]
     },
     "execution_count": 12,
     "metadata": {},
     "output_type": "execute_result"
    }
   ],
   "source": [
    "df"
   ]
  },
  {
   "cell_type": "code",
   "execution_count": 13,
   "id": "fe0a2e10",
   "metadata": {},
   "outputs": [],
   "source": [
    "df.index = [\"ligne1\",\"ligne2\",\"ligne3\",\"ligne4\"]"
   ]
  },
  {
   "cell_type": "code",
   "execution_count": 16,
   "id": "ea59f541",
   "metadata": {},
   "outputs": [
    {
     "data": {
      "text/plain": [
       "ligne1       A\n",
       "ligne2       1\n",
       "ligne3       .\n",
       "ligne4    None\n",
       "Name: Colonne 1, dtype: object"
      ]
     },
     "execution_count": 16,
     "metadata": {},
     "output_type": "execute_result"
    }
   ],
   "source": [
    "df[\"Colonne 1\"]"
   ]
  },
  {
   "cell_type": "code",
   "execution_count": 19,
   "id": "d79a38fb",
   "metadata": {},
   "outputs": [],
   "source": [
    "df.loc[\"ligne1\",\"Colonne 1\"]  = \"Nouvelle valeur\""
   ]
  },
  {
   "cell_type": "code",
   "execution_count": 20,
   "id": "2d369175",
   "metadata": {},
   "outputs": [
    {
     "data": {
      "text/html": [
       "<div>\n",
       "<style scoped>\n",
       "    .dataframe tbody tr th:only-of-type {\n",
       "        vertical-align: middle;\n",
       "    }\n",
       "\n",
       "    .dataframe tbody tr th {\n",
       "        vertical-align: top;\n",
       "    }\n",
       "\n",
       "    .dataframe thead th {\n",
       "        text-align: right;\n",
       "    }\n",
       "</style>\n",
       "<table border=\"1\" class=\"dataframe\">\n",
       "  <thead>\n",
       "    <tr style=\"text-align: right;\">\n",
       "      <th></th>\n",
       "      <th>Colonne 1</th>\n",
       "      <th>Colonne 2</th>\n",
       "      <th>Colonne 3</th>\n",
       "    </tr>\n",
       "  </thead>\n",
       "  <tbody>\n",
       "    <tr>\n",
       "      <th>ligne1</th>\n",
       "      <td>Nouvelle valeur</td>\n",
       "      <td>B</td>\n",
       "      <td>C</td>\n",
       "    </tr>\n",
       "    <tr>\n",
       "      <th>ligne2</th>\n",
       "      <td>1</td>\n",
       "      <td>2</td>\n",
       "      <td>3</td>\n",
       "    </tr>\n",
       "    <tr>\n",
       "      <th>ligne3</th>\n",
       "      <td>.</td>\n",
       "      <td>#</td>\n",
       "      <td>,</td>\n",
       "    </tr>\n",
       "    <tr>\n",
       "      <th>ligne4</th>\n",
       "      <td>None</td>\n",
       "      <td>None</td>\n",
       "      <td>None</td>\n",
       "    </tr>\n",
       "  </tbody>\n",
       "</table>\n",
       "</div>"
      ],
      "text/plain": [
       "              Colonne 1 Colonne 2 Colonne 3\n",
       "ligne1  Nouvelle valeur         B         C\n",
       "ligne2                1         2         3\n",
       "ligne3                .         #         ,\n",
       "ligne4             None      None      None"
      ]
     },
     "execution_count": 20,
     "metadata": {},
     "output_type": "execute_result"
    }
   ],
   "source": [
    "df"
   ]
  },
  {
   "cell_type": "markdown",
   "id": "4fa54277",
   "metadata": {},
   "source": [
    "## Chargement de données réelles"
   ]
  },
  {
   "cell_type": "code",
   "execution_count": 23,
   "id": "31345e77",
   "metadata": {},
   "outputs": [],
   "source": [
    "df = pd.read_excel(\"/home/emilien/Téléchargements/litteracie_informatique_en_amont_de_la_formation.xlsx\",header=2)"
   ]
  },
  {
   "cell_type": "code",
   "execution_count": 31,
   "id": "7c440c4f",
   "metadata": {},
   "outputs": [],
   "source": [
    "df.columns = ['Séquentiel', 'SID', 'Heure de soumission', 'Heure de complétion',\n",
    "       'Heure de modification', 'Brouillon', 'Adresse IP', 'UID',\n",
    "       'Nom',\n",
    "       'role_ordinateur',\n",
    "       'code_source',\n",
    "       'fichier_csv',\n",
    "       'base_langage',\n",
    "       'boucle',\n",
    "       'utiliser_programmation',\n",
    "       'reconnaitre_python',\n",
    "       'console_python',\n",
    "       'programmation_python',\n",
    "       'fonction_python',\n",
    "       'pandas',\n",
    "       'superposer_graphique',\n",
    "       'idee_application',\n",
    "       'aspect_interet']"
   ]
  },
  {
   "cell_type": "code",
   "execution_count": 34,
   "id": "cc18aaca",
   "metadata": {},
   "outputs": [],
   "source": [
    "df.to_excel(\"nouveau_tableau.xlsx\")"
   ]
  },
  {
   "cell_type": "code",
   "execution_count": 41,
   "id": "ea1c6e62",
   "metadata": {},
   "outputs": [
    {
     "data": {
      "text/html": [
       "<div>\n",
       "<style scoped>\n",
       "    .dataframe tbody tr th:only-of-type {\n",
       "        vertical-align: middle;\n",
       "    }\n",
       "\n",
       "    .dataframe tbody tr th {\n",
       "        vertical-align: top;\n",
       "    }\n",
       "\n",
       "    .dataframe thead th {\n",
       "        text-align: right;\n",
       "    }\n",
       "</style>\n",
       "<table border=\"1\" class=\"dataframe\">\n",
       "  <thead>\n",
       "    <tr style=\"text-align: right;\">\n",
       "      <th></th>\n",
       "      <th>fonction_python</th>\n",
       "      <th>pandas</th>\n",
       "      <th>superposer_graphique</th>\n",
       "      <th>idee_application</th>\n",
       "      <th>aspect_interet</th>\n",
       "    </tr>\n",
       "  </thead>\n",
       "  <tbody>\n",
       "    <tr>\n",
       "      <th>0</th>\n",
       "      <td>Non</td>\n",
       "      <td>Non</td>\n",
       "      <td>Non</td>\n",
       "      <td>NaN</td>\n",
       "      <td>NaN</td>\n",
       "    </tr>\n",
       "    <tr>\n",
       "      <th>1</th>\n",
       "      <td>Non</td>\n",
       "      <td>Non</td>\n",
       "      <td>Non</td>\n",
       "      <td>NaN</td>\n",
       "      <td>NaN</td>\n",
       "    </tr>\n",
       "    <tr>\n",
       "      <th>2</th>\n",
       "      <td>Non</td>\n",
       "      <td>Non</td>\n",
       "      <td>Non</td>\n",
       "      <td>NaN</td>\n",
       "      <td>NaN</td>\n",
       "    </tr>\n",
       "    <tr>\n",
       "      <th>3</th>\n",
       "      <td>Non</td>\n",
       "      <td>Non</td>\n",
       "      <td>Non</td>\n",
       "      <td>Traitement de données textuelles extraites de ...</td>\n",
       "      <td>Connaîte les bases, non pas pour devenir exper...</td>\n",
       "    </tr>\n",
       "    <tr>\n",
       "      <th>4</th>\n",
       "      <td>Non</td>\n",
       "      <td>Non</td>\n",
       "      <td>Non</td>\n",
       "      <td>non</td>\n",
       "      <td>NaN</td>\n",
       "    </tr>\n",
       "    <tr>\n",
       "      <th>5</th>\n",
       "      <td>Non</td>\n",
       "      <td>Non</td>\n",
       "      <td>Non</td>\n",
       "      <td>NaN</td>\n",
       "      <td>Découvrir le langage de programmation Python</td>\n",
       "    </tr>\n",
       "    <tr>\n",
       "      <th>6</th>\n",
       "      <td>Non</td>\n",
       "      <td>Non</td>\n",
       "      <td>Non</td>\n",
       "      <td>Automatiser des actions, traitement en lot</td>\n",
       "      <td>Savoir déchiffrer, comprendre un script écrit ...</td>\n",
       "    </tr>\n",
       "    <tr>\n",
       "      <th>7</th>\n",
       "      <td>Non</td>\n",
       "      <td>Non</td>\n",
       "      <td>Non</td>\n",
       "      <td>Faire des traitement en lots et automatiser de...</td>\n",
       "      <td>Acquérir les bases pour comprendre les scripts...</td>\n",
       "    </tr>\n",
       "    <tr>\n",
       "      <th>8</th>\n",
       "      <td>Non</td>\n",
       "      <td>Non</td>\n",
       "      <td>Non</td>\n",
       "      <td>Non! Je l'apprendrai grâce à votre formation</td>\n",
       "      <td>Oui!</td>\n",
       "    </tr>\n",
       "    <tr>\n",
       "      <th>9</th>\n",
       "      <td>Oui</td>\n",
       "      <td>Non</td>\n",
       "      <td>Non</td>\n",
       "      <td>NaN</td>\n",
       "      <td>NaN</td>\n",
       "    </tr>\n",
       "    <tr>\n",
       "      <th>10</th>\n",
       "      <td>Non</td>\n",
       "      <td>Non</td>\n",
       "      <td>Non</td>\n",
       "      <td>Pas encore avec Python.</td>\n",
       "      <td>Le lexique et les bases essentielles à la pris...</td>\n",
       "    </tr>\n",
       "  </tbody>\n",
       "</table>\n",
       "</div>"
      ],
      "text/plain": [
       "   fonction_python pandas superposer_graphique  \\\n",
       "0              Non    Non                  Non   \n",
       "1              Non    Non                  Non   \n",
       "2              Non    Non                  Non   \n",
       "3              Non    Non                  Non   \n",
       "4              Non    Non                  Non   \n",
       "5              Non    Non                  Non   \n",
       "6              Non    Non                  Non   \n",
       "7              Non    Non                  Non   \n",
       "8              Non    Non                  Non   \n",
       "9              Oui    Non                  Non   \n",
       "10             Non    Non                  Non   \n",
       "\n",
       "                                     idee_application  \\\n",
       "0                                                 NaN   \n",
       "1                                                 NaN   \n",
       "2                                                 NaN   \n",
       "3   Traitement de données textuelles extraites de ...   \n",
       "4                                                 non   \n",
       "5                                                 NaN   \n",
       "6          Automatiser des actions, traitement en lot   \n",
       "7   Faire des traitement en lots et automatiser de...   \n",
       "8       Non! Je l'apprendrai grâce à votre formation    \n",
       "9                                                 NaN   \n",
       "10                            Pas encore avec Python.   \n",
       "\n",
       "                                       aspect_interet  \n",
       "0                                                 NaN  \n",
       "1                                                 NaN  \n",
       "2                                                 NaN  \n",
       "3   Connaîte les bases, non pas pour devenir exper...  \n",
       "4                                                 NaN  \n",
       "5        Découvrir le langage de programmation Python  \n",
       "6   Savoir déchiffrer, comprendre un script écrit ...  \n",
       "7   Acquérir les bases pour comprendre les scripts...  \n",
       "8                                               Oui!   \n",
       "9                                                 NaN  \n",
       "10  Le lexique et les bases essentielles à la pris...  "
      ]
     },
     "execution_count": 41,
     "metadata": {},
     "output_type": "execute_result"
    }
   ],
   "source": [
    "df = df.drop(columns = df.columns[0:9])\n",
    "df"
   ]
  }
 ],
 "metadata": {
  "kernelspec": {
   "display_name": "Python 3 (ipykernel)",
   "language": "python",
   "name": "python3"
  },
  "language_info": {
   "codemirror_mode": {
    "name": "ipython",
    "version": 3
   },
   "file_extension": ".py",
   "mimetype": "text/x-python",
   "name": "python",
   "nbconvert_exporter": "python",
   "pygments_lexer": "ipython3",
   "version": "3.9.12"
  }
 },
 "nbformat": 4,
 "nbformat_minor": 5
}
