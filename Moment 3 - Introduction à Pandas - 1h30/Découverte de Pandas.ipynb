{
 "cells": [
  {
   "cell_type": "markdown",
   "id": "2829d4f1",
   "metadata": {},
   "source": [
    "# Pandas"
   ]
  },
  {
   "cell_type": "markdown",
   "id": "32d3dd4e",
   "metadata": {},
   "source": [
    "### Chargement et objet central"
   ]
  },
  {
   "cell_type": "code",
   "execution_count": 1,
   "id": "ee70219f",
   "metadata": {},
   "outputs": [],
   "source": [
    "import pandas as pd"
   ]
  },
  {
   "cell_type": "code",
   "execution_count": 7,
   "id": "70afda27",
   "metadata": {},
   "outputs": [],
   "source": [
    "df = pd.DataFrame([\n",
    "                   [\"A\",\"B\",\"C\"],\n",
    "                   [1,2,3],\n",
    "                   [\".\",\"#\",\",\"],\n",
    "                   [None,None,None]\n",
    "                  ]\n",
    "                 )"
   ]
  },
  {
   "cell_type": "code",
   "execution_count": 8,
   "id": "337240d3",
   "metadata": {},
   "outputs": [
    {
     "data": {
      "text/html": [
       "<div>\n",
       "<style scoped>\n",
       "    .dataframe tbody tr th:only-of-type {\n",
       "        vertical-align: middle;\n",
       "    }\n",
       "\n",
       "    .dataframe tbody tr th {\n",
       "        vertical-align: top;\n",
       "    }\n",
       "\n",
       "    .dataframe thead th {\n",
       "        text-align: right;\n",
       "    }\n",
       "</style>\n",
       "<table border=\"1\" class=\"dataframe\">\n",
       "  <thead>\n",
       "    <tr style=\"text-align: right;\">\n",
       "      <th></th>\n",
       "      <th>0</th>\n",
       "      <th>1</th>\n",
       "      <th>2</th>\n",
       "    </tr>\n",
       "  </thead>\n",
       "  <tbody>\n",
       "    <tr>\n",
       "      <th>0</th>\n",
       "      <td>A</td>\n",
       "      <td>B</td>\n",
       "      <td>C</td>\n",
       "    </tr>\n",
       "    <tr>\n",
       "      <th>1</th>\n",
       "      <td>1</td>\n",
       "      <td>2</td>\n",
       "      <td>3</td>\n",
       "    </tr>\n",
       "    <tr>\n",
       "      <th>2</th>\n",
       "      <td>.</td>\n",
       "      <td>#</td>\n",
       "      <td>,</td>\n",
       "    </tr>\n",
       "    <tr>\n",
       "      <th>3</th>\n",
       "      <td>None</td>\n",
       "      <td>None</td>\n",
       "      <td>None</td>\n",
       "    </tr>\n",
       "  </tbody>\n",
       "</table>\n",
       "</div>"
      ],
      "text/plain": [
       "      0     1     2\n",
       "0     A     B     C\n",
       "1     1     2     3\n",
       "2     .     #     ,\n",
       "3  None  None  None"
      ]
     },
     "execution_count": 8,
     "metadata": {},
     "output_type": "execute_result"
    }
   ],
   "source": [
    "df"
   ]
  },
  {
   "cell_type": "code",
   "execution_count": 5,
   "id": "a6ecb7ad",
   "metadata": {},
   "outputs": [
    {
     "data": {
      "text/plain": [
       "pandas.core.frame.DataFrame"
      ]
     },
     "execution_count": 5,
     "metadata": {},
     "output_type": "execute_result"
    }
   ],
   "source": [
    "type(df)"
   ]
  },
  {
   "cell_type": "code",
   "execution_count": 9,
   "id": "f1005acd",
   "metadata": {},
   "outputs": [
    {
     "data": {
      "text/plain": [
       "(4, 3)"
      ]
     },
     "execution_count": 9,
     "metadata": {},
     "output_type": "execute_result"
    }
   ],
   "source": [
    "df.shape"
   ]
  },
  {
   "cell_type": "code",
   "execution_count": 11,
   "id": "65635655",
   "metadata": {},
   "outputs": [],
   "source": [
    "df.columns = [\"Colonne 1\",\"Colonne 2\",\"Colonne 3\"]"
   ]
  },
  {
   "cell_type": "code",
   "execution_count": 12,
   "id": "f62f3610",
   "metadata": {},
   "outputs": [
    {
     "data": {
      "text/html": [
       "<div>\n",
       "<style scoped>\n",
       "    .dataframe tbody tr th:only-of-type {\n",
       "        vertical-align: middle;\n",
       "    }\n",
       "\n",
       "    .dataframe tbody tr th {\n",
       "        vertical-align: top;\n",
       "    }\n",
       "\n",
       "    .dataframe thead th {\n",
       "        text-align: right;\n",
       "    }\n",
       "</style>\n",
       "<table border=\"1\" class=\"dataframe\">\n",
       "  <thead>\n",
       "    <tr style=\"text-align: right;\">\n",
       "      <th></th>\n",
       "      <th>Colonne 1</th>\n",
       "      <th>Colonne 2</th>\n",
       "      <th>Colonne 3</th>\n",
       "    </tr>\n",
       "  </thead>\n",
       "  <tbody>\n",
       "    <tr>\n",
       "      <th>0</th>\n",
       "      <td>A</td>\n",
       "      <td>B</td>\n",
       "      <td>C</td>\n",
       "    </tr>\n",
       "    <tr>\n",
       "      <th>1</th>\n",
       "      <td>1</td>\n",
       "      <td>2</td>\n",
       "      <td>3</td>\n",
       "    </tr>\n",
       "    <tr>\n",
       "      <th>2</th>\n",
       "      <td>.</td>\n",
       "      <td>#</td>\n",
       "      <td>,</td>\n",
       "    </tr>\n",
       "    <tr>\n",
       "      <th>3</th>\n",
       "      <td>None</td>\n",
       "      <td>None</td>\n",
       "      <td>None</td>\n",
       "    </tr>\n",
       "  </tbody>\n",
       "</table>\n",
       "</div>"
      ],
      "text/plain": [
       "  Colonne 1 Colonne 2 Colonne 3\n",
       "0         A         B         C\n",
       "1         1         2         3\n",
       "2         .         #         ,\n",
       "3      None      None      None"
      ]
     },
     "execution_count": 12,
     "metadata": {},
     "output_type": "execute_result"
    }
   ],
   "source": [
    "df"
   ]
  },
  {
   "cell_type": "code",
   "execution_count": 13,
   "id": "9bcacd8f",
   "metadata": {},
   "outputs": [],
   "source": [
    "df.index = [\"ligne1\",\"ligne2\",\"ligne3\",\"ligne4\"]"
   ]
  },
  {
   "cell_type": "code",
   "execution_count": 16,
   "id": "5a3b1f05",
   "metadata": {},
   "outputs": [
    {
     "data": {
      "text/plain": [
       "ligne1       A\n",
       "ligne2       1\n",
       "ligne3       .\n",
       "ligne4    None\n",
       "Name: Colonne 1, dtype: object"
      ]
     },
     "execution_count": 16,
     "metadata": {},
     "output_type": "execute_result"
    }
   ],
   "source": [
    "df[\"Colonne 1\"]"
   ]
  },
  {
   "cell_type": "code",
   "execution_count": 19,
   "id": "a2ccefa0",
   "metadata": {},
   "outputs": [],
   "source": [
    "df.loc[\"ligne1\",\"Colonne 1\"]  = \"Nouvelle valeur\""
   ]
  },
  {
   "cell_type": "code",
   "execution_count": 20,
   "id": "045dd44b",
   "metadata": {},
   "outputs": [
    {
     "data": {
      "text/html": [
       "<div>\n",
       "<style scoped>\n",
       "    .dataframe tbody tr th:only-of-type {\n",
       "        vertical-align: middle;\n",
       "    }\n",
       "\n",
       "    .dataframe tbody tr th {\n",
       "        vertical-align: top;\n",
       "    }\n",
       "\n",
       "    .dataframe thead th {\n",
       "        text-align: right;\n",
       "    }\n",
       "</style>\n",
       "<table border=\"1\" class=\"dataframe\">\n",
       "  <thead>\n",
       "    <tr style=\"text-align: right;\">\n",
       "      <th></th>\n",
       "      <th>Colonne 1</th>\n",
       "      <th>Colonne 2</th>\n",
       "      <th>Colonne 3</th>\n",
       "    </tr>\n",
       "  </thead>\n",
       "  <tbody>\n",
       "    <tr>\n",
       "      <th>ligne1</th>\n",
       "      <td>Nouvelle valeur</td>\n",
       "      <td>B</td>\n",
       "      <td>C</td>\n",
       "    </tr>\n",
       "    <tr>\n",
       "      <th>ligne2</th>\n",
       "      <td>1</td>\n",
       "      <td>2</td>\n",
       "      <td>3</td>\n",
       "    </tr>\n",
       "    <tr>\n",
       "      <th>ligne3</th>\n",
       "      <td>.</td>\n",
       "      <td>#</td>\n",
       "      <td>,</td>\n",
       "    </tr>\n",
       "    <tr>\n",
       "      <th>ligne4</th>\n",
       "      <td>None</td>\n",
       "      <td>None</td>\n",
       "      <td>None</td>\n",
       "    </tr>\n",
       "  </tbody>\n",
       "</table>\n",
       "</div>"
      ],
      "text/plain": [
       "              Colonne 1 Colonne 2 Colonne 3\n",
       "ligne1  Nouvelle valeur         B         C\n",
       "ligne2                1         2         3\n",
       "ligne3                .         #         ,\n",
       "ligne4             None      None      None"
      ]
     },
     "execution_count": 20,
     "metadata": {},
     "output_type": "execute_result"
    }
   ],
   "source": [
    "df"
   ]
  },
  {
   "cell_type": "markdown",
   "id": "d272c441",
   "metadata": {},
   "source": [
    "## Chargement de données réelles"
   ]
  },
  {
   "cell_type": "code",
   "execution_count": 45,
   "id": "971e0a84",
   "metadata": {},
   "outputs": [],
   "source": [
    "df = pd.read_excel(\"/home/emilien/Téléchargements/litteracie_informatique_en_amont_de_la_formation.xlsx\",header=2)"
   ]
  },
  {
   "cell_type": "code",
   "execution_count": 46,
   "id": "c4afb5f9",
   "metadata": {},
   "outputs": [],
   "source": [
    "df.columns = ['Séquentiel', 'SID', 'Heure de soumission', 'Heure de complétion',\n",
    "       'Heure de modification', 'Brouillon', 'Adresse IP', 'UID',\n",
    "       'Nom',\n",
    "       'role_ordinateur',\n",
    "       'code_source',\n",
    "       'fichier_csv',\n",
    "       'base_langage',\n",
    "       'boucle',\n",
    "       'utiliser_programmation',\n",
    "       'reconnaitre_python',\n",
    "       'console_python',\n",
    "       'programmation_python',\n",
    "       'fonction_python',\n",
    "       'pandas',\n",
    "       'superposer_graphique',\n",
    "       'idee_application',\n",
    "       'aspect_interet']"
   ]
  },
  {
   "cell_type": "code",
   "execution_count": 34,
   "id": "7879cbb9",
   "metadata": {},
   "outputs": [],
   "source": [
    "df.to_excel(\"nouveau_tableau.xlsx\")"
   ]
  },
  {
   "cell_type": "code",
   "execution_count": 47,
   "id": "4db41fd6",
   "metadata": {},
   "outputs": [
    {
     "data": {
      "text/html": [
       "<div>\n",
       "<style scoped>\n",
       "    .dataframe tbody tr th:only-of-type {\n",
       "        vertical-align: middle;\n",
       "    }\n",
       "\n",
       "    .dataframe tbody tr th {\n",
       "        vertical-align: top;\n",
       "    }\n",
       "\n",
       "    .dataframe thead th {\n",
       "        text-align: right;\n",
       "    }\n",
       "</style>\n",
       "<table border=\"1\" class=\"dataframe\">\n",
       "  <thead>\n",
       "    <tr style=\"text-align: right;\">\n",
       "      <th></th>\n",
       "      <th>role_ordinateur</th>\n",
       "      <th>code_source</th>\n",
       "      <th>fichier_csv</th>\n",
       "      <th>base_langage</th>\n",
       "      <th>boucle</th>\n",
       "      <th>utiliser_programmation</th>\n",
       "      <th>reconnaitre_python</th>\n",
       "      <th>console_python</th>\n",
       "      <th>programmation_python</th>\n",
       "      <th>fonction_python</th>\n",
       "      <th>pandas</th>\n",
       "      <th>superposer_graphique</th>\n",
       "      <th>idee_application</th>\n",
       "      <th>aspect_interet</th>\n",
       "    </tr>\n",
       "  </thead>\n",
       "  <tbody>\n",
       "    <tr>\n",
       "      <th>0</th>\n",
       "      <td>Oui</td>\n",
       "      <td>Oui</td>\n",
       "      <td>Oui</td>\n",
       "      <td>Oui</td>\n",
       "      <td>Oui</td>\n",
       "      <td>Oui</td>\n",
       "      <td>Non</td>\n",
       "      <td>Non</td>\n",
       "      <td>Non</td>\n",
       "      <td>Non</td>\n",
       "      <td>Non</td>\n",
       "      <td>Non</td>\n",
       "      <td>NaN</td>\n",
       "      <td>NaN</td>\n",
       "    </tr>\n",
       "    <tr>\n",
       "      <th>1</th>\n",
       "      <td>Oui</td>\n",
       "      <td>Oui</td>\n",
       "      <td>Oui</td>\n",
       "      <td>Oui</td>\n",
       "      <td>Oui</td>\n",
       "      <td>Oui</td>\n",
       "      <td>Non</td>\n",
       "      <td>Oui</td>\n",
       "      <td>Non</td>\n",
       "      <td>Non</td>\n",
       "      <td>Non</td>\n",
       "      <td>Non</td>\n",
       "      <td>NaN</td>\n",
       "      <td>NaN</td>\n",
       "    </tr>\n",
       "    <tr>\n",
       "      <th>2</th>\n",
       "      <td>Oui</td>\n",
       "      <td>Oui</td>\n",
       "      <td>Oui</td>\n",
       "      <td>Oui</td>\n",
       "      <td>Oui</td>\n",
       "      <td>Oui</td>\n",
       "      <td>Non</td>\n",
       "      <td>Non</td>\n",
       "      <td>Non</td>\n",
       "      <td>Non</td>\n",
       "      <td>Non</td>\n",
       "      <td>Non</td>\n",
       "      <td>NaN</td>\n",
       "      <td>NaN</td>\n",
       "    </tr>\n",
       "    <tr>\n",
       "      <th>3</th>\n",
       "      <td>Oui</td>\n",
       "      <td>Oui</td>\n",
       "      <td>Oui</td>\n",
       "      <td>Non</td>\n",
       "      <td>Oui</td>\n",
       "      <td>Non</td>\n",
       "      <td>Non</td>\n",
       "      <td>Non</td>\n",
       "      <td>Non</td>\n",
       "      <td>Non</td>\n",
       "      <td>Non</td>\n",
       "      <td>Non</td>\n",
       "      <td>Traitement de données textuelles extraites de ...</td>\n",
       "      <td>Connaîte les bases, non pas pour devenir exper...</td>\n",
       "    </tr>\n",
       "    <tr>\n",
       "      <th>4</th>\n",
       "      <td>Oui</td>\n",
       "      <td>Oui</td>\n",
       "      <td>Non</td>\n",
       "      <td>Non</td>\n",
       "      <td>Non</td>\n",
       "      <td>Non</td>\n",
       "      <td>Non</td>\n",
       "      <td>Non</td>\n",
       "      <td>Non</td>\n",
       "      <td>Non</td>\n",
       "      <td>Non</td>\n",
       "      <td>Non</td>\n",
       "      <td>non</td>\n",
       "      <td>NaN</td>\n",
       "    </tr>\n",
       "    <tr>\n",
       "      <th>5</th>\n",
       "      <td>Oui</td>\n",
       "      <td>Oui</td>\n",
       "      <td>Oui</td>\n",
       "      <td>Non</td>\n",
       "      <td>Oui</td>\n",
       "      <td>Non</td>\n",
       "      <td>Non</td>\n",
       "      <td>Non</td>\n",
       "      <td>Non</td>\n",
       "      <td>Non</td>\n",
       "      <td>Non</td>\n",
       "      <td>Non</td>\n",
       "      <td>NaN</td>\n",
       "      <td>Découvrir le langage de programmation Python</td>\n",
       "    </tr>\n",
       "    <tr>\n",
       "      <th>6</th>\n",
       "      <td>Oui</td>\n",
       "      <td>Oui</td>\n",
       "      <td>Oui</td>\n",
       "      <td>Non</td>\n",
       "      <td>Oui</td>\n",
       "      <td>Non</td>\n",
       "      <td>Non</td>\n",
       "      <td>Non</td>\n",
       "      <td>Non</td>\n",
       "      <td>Non</td>\n",
       "      <td>Non</td>\n",
       "      <td>Non</td>\n",
       "      <td>Automatiser des actions, traitement en lot</td>\n",
       "      <td>Savoir déchiffrer, comprendre un script écrit ...</td>\n",
       "    </tr>\n",
       "    <tr>\n",
       "      <th>7</th>\n",
       "      <td>Oui</td>\n",
       "      <td>Oui</td>\n",
       "      <td>Oui</td>\n",
       "      <td>Non</td>\n",
       "      <td>Oui</td>\n",
       "      <td>Non</td>\n",
       "      <td>Non</td>\n",
       "      <td>Non</td>\n",
       "      <td>Non</td>\n",
       "      <td>Non</td>\n",
       "      <td>Non</td>\n",
       "      <td>Non</td>\n",
       "      <td>Faire des traitement en lots et automatiser de...</td>\n",
       "      <td>Acquérir les bases pour comprendre les scripts...</td>\n",
       "    </tr>\n",
       "    <tr>\n",
       "      <th>8</th>\n",
       "      <td>Non</td>\n",
       "      <td>Non</td>\n",
       "      <td>Non</td>\n",
       "      <td>Non</td>\n",
       "      <td>Non</td>\n",
       "      <td>Non</td>\n",
       "      <td>Non</td>\n",
       "      <td>Non</td>\n",
       "      <td>Non</td>\n",
       "      <td>Non</td>\n",
       "      <td>Non</td>\n",
       "      <td>Non</td>\n",
       "      <td>Non! Je l'apprendrai grâce à votre formation</td>\n",
       "      <td>Oui!</td>\n",
       "    </tr>\n",
       "    <tr>\n",
       "      <th>9</th>\n",
       "      <td>Oui</td>\n",
       "      <td>Non</td>\n",
       "      <td>Oui</td>\n",
       "      <td>Oui</td>\n",
       "      <td>Non</td>\n",
       "      <td>Non</td>\n",
       "      <td>Non</td>\n",
       "      <td>Non</td>\n",
       "      <td>Non</td>\n",
       "      <td>Oui</td>\n",
       "      <td>Non</td>\n",
       "      <td>Non</td>\n",
       "      <td>NaN</td>\n",
       "      <td>NaN</td>\n",
       "    </tr>\n",
       "    <tr>\n",
       "      <th>10</th>\n",
       "      <td>Oui</td>\n",
       "      <td>Non</td>\n",
       "      <td>Oui</td>\n",
       "      <td>Non</td>\n",
       "      <td>Non</td>\n",
       "      <td>Non</td>\n",
       "      <td>Non</td>\n",
       "      <td>Non</td>\n",
       "      <td>Non</td>\n",
       "      <td>Non</td>\n",
       "      <td>Non</td>\n",
       "      <td>Non</td>\n",
       "      <td>Pas encore avec Python.</td>\n",
       "      <td>Le lexique et les bases essentielles à la pris...</td>\n",
       "    </tr>\n",
       "  </tbody>\n",
       "</table>\n",
       "</div>"
      ],
      "text/plain": [
       "   role_ordinateur code_source fichier_csv base_langage boucle  \\\n",
       "0              Oui         Oui         Oui          Oui    Oui   \n",
       "1              Oui         Oui         Oui          Oui    Oui   \n",
       "2              Oui         Oui         Oui          Oui    Oui   \n",
       "3              Oui         Oui         Oui          Non    Oui   \n",
       "4              Oui         Oui         Non          Non    Non   \n",
       "5              Oui         Oui         Oui          Non    Oui   \n",
       "6              Oui         Oui         Oui          Non    Oui   \n",
       "7              Oui         Oui         Oui          Non    Oui   \n",
       "8              Non         Non         Non          Non    Non   \n",
       "9              Oui         Non         Oui          Oui    Non   \n",
       "10             Oui         Non         Oui          Non    Non   \n",
       "\n",
       "   utiliser_programmation reconnaitre_python console_python  \\\n",
       "0                     Oui                Non            Non   \n",
       "1                     Oui                Non            Oui   \n",
       "2                     Oui                Non            Non   \n",
       "3                     Non                Non            Non   \n",
       "4                     Non                Non            Non   \n",
       "5                     Non                Non            Non   \n",
       "6                     Non                Non            Non   \n",
       "7                     Non                Non            Non   \n",
       "8                     Non                Non            Non   \n",
       "9                     Non                Non            Non   \n",
       "10                    Non                Non            Non   \n",
       "\n",
       "   programmation_python fonction_python pandas superposer_graphique  \\\n",
       "0                   Non             Non    Non                  Non   \n",
       "1                   Non             Non    Non                  Non   \n",
       "2                   Non             Non    Non                  Non   \n",
       "3                   Non             Non    Non                  Non   \n",
       "4                   Non             Non    Non                  Non   \n",
       "5                   Non             Non    Non                  Non   \n",
       "6                   Non             Non    Non                  Non   \n",
       "7                   Non             Non    Non                  Non   \n",
       "8                   Non             Non    Non                  Non   \n",
       "9                   Non             Oui    Non                  Non   \n",
       "10                  Non             Non    Non                  Non   \n",
       "\n",
       "                                     idee_application  \\\n",
       "0                                                 NaN   \n",
       "1                                                 NaN   \n",
       "2                                                 NaN   \n",
       "3   Traitement de données textuelles extraites de ...   \n",
       "4                                                 non   \n",
       "5                                                 NaN   \n",
       "6          Automatiser des actions, traitement en lot   \n",
       "7   Faire des traitement en lots et automatiser de...   \n",
       "8       Non! Je l'apprendrai grâce à votre formation    \n",
       "9                                                 NaN   \n",
       "10                            Pas encore avec Python.   \n",
       "\n",
       "                                       aspect_interet  \n",
       "0                                                 NaN  \n",
       "1                                                 NaN  \n",
       "2                                                 NaN  \n",
       "3   Connaîte les bases, non pas pour devenir exper...  \n",
       "4                                                 NaN  \n",
       "5        Découvrir le langage de programmation Python  \n",
       "6   Savoir déchiffrer, comprendre un script écrit ...  \n",
       "7   Acquérir les bases pour comprendre les scripts...  \n",
       "8                                               Oui!   \n",
       "9                                                 NaN  \n",
       "10  Le lexique et les bases essentielles à la pris...  "
      ]
     },
     "execution_count": 47,
     "metadata": {},
     "output_type": "execute_result"
    }
   ],
   "source": [
    "df = df.drop(columns = df.columns[0:9])\n",
    "df"
   ]
  },
  {
   "cell_type": "code",
   "execution_count": 44,
   "id": "2095c50c",
   "metadata": {},
   "outputs": [
    {
     "data": {
      "text/plain": [
       "Index(['fonction_python', 'pandas', 'superposer_graphique', 'idee_application',\n",
       "       'aspect_interet'],\n",
       "      dtype='object')"
      ]
     },
     "execution_count": 44,
     "metadata": {},
     "output_type": "execute_result"
    }
   ],
   "source": [
    "df.columns"
   ]
  },
  {
   "cell_type": "code",
   "execution_count": 49,
   "id": "039ec49b",
   "metadata": {},
   "outputs": [
    {
     "data": {
      "text/plain": [
       "Oui    10\n",
       "Non     1\n",
       "Name: role_ordinateur, dtype: int64"
      ]
     },
     "execution_count": 49,
     "metadata": {},
     "output_type": "execute_result"
    }
   ],
   "source": [
    "df[\"role_ordinateur\"].value_counts()"
   ]
  },
  {
   "cell_type": "code",
   "execution_count": 54,
   "id": "253886d2",
   "metadata": {},
   "outputs": [
    {
     "data": {
      "text/plain": [
       "Oui    90.91\n",
       "Non     9.09\n",
       "Name: role_ordinateur, dtype: float64"
      ]
     },
     "execution_count": 54,
     "metadata": {},
     "output_type": "execute_result"
    }
   ],
   "source": [
    "round(df[\"role_ordinateur\"].value_counts(normalize=True)*100,2)"
   ]
  },
  {
   "cell_type": "code",
   "execution_count": 50,
   "id": "57b9a524",
   "metadata": {},
   "outputs": [
    {
     "data": {
      "text/plain": [
       "array(['Oui', 'Non'], dtype=object)"
      ]
     },
     "execution_count": 50,
     "metadata": {},
     "output_type": "execute_result"
    }
   ],
   "source": [
    "df[\"role_ordinateur\"].unique()"
   ]
  },
  {
   "cell_type": "code",
   "execution_count": 56,
   "id": "eaf1e9cb",
   "metadata": {},
   "outputs": [
    {
     "data": {
      "text/plain": [
       "Oui    8\n",
       "Non    3\n",
       "Name: code_source, dtype: int64"
      ]
     },
     "execution_count": 56,
     "metadata": {},
     "output_type": "execute_result"
    }
   ],
   "source": [
    "df[\"code_source\"].value_counts()"
   ]
  },
  {
   "cell_type": "code",
   "execution_count": 57,
   "id": "c1cda6e1",
   "metadata": {},
   "outputs": [
    {
     "data": {
      "text/html": [
       "<div>\n",
       "<style scoped>\n",
       "    .dataframe tbody tr th:only-of-type {\n",
       "        vertical-align: middle;\n",
       "    }\n",
       "\n",
       "    .dataframe tbody tr th {\n",
       "        vertical-align: top;\n",
       "    }\n",
       "\n",
       "    .dataframe thead th {\n",
       "        text-align: right;\n",
       "    }\n",
       "</style>\n",
       "<table border=\"1\" class=\"dataframe\">\n",
       "  <thead>\n",
       "    <tr style=\"text-align: right;\">\n",
       "      <th>utiliser_programmation</th>\n",
       "      <th>Non</th>\n",
       "      <th>Oui</th>\n",
       "    </tr>\n",
       "    <tr>\n",
       "      <th>code_source</th>\n",
       "      <th></th>\n",
       "      <th></th>\n",
       "    </tr>\n",
       "  </thead>\n",
       "  <tbody>\n",
       "    <tr>\n",
       "      <th>Non</th>\n",
       "      <td>3</td>\n",
       "      <td>0</td>\n",
       "    </tr>\n",
       "    <tr>\n",
       "      <th>Oui</th>\n",
       "      <td>5</td>\n",
       "      <td>3</td>\n",
       "    </tr>\n",
       "  </tbody>\n",
       "</table>\n",
       "</div>"
      ],
      "text/plain": [
       "utiliser_programmation  Non  Oui\n",
       "code_source                     \n",
       "Non                       3    0\n",
       "Oui                       5    3"
      ]
     },
     "execution_count": 57,
     "metadata": {},
     "output_type": "execute_result"
    }
   ],
   "source": [
    "pd.crosstab(df[\"code_source\"],df[\"utiliser_programmation\"])"
   ]
  },
  {
   "cell_type": "code",
   "execution_count": 61,
   "id": "e3c0ab8f",
   "metadata": {},
   "outputs": [
    {
     "data": {
      "text/html": [
       "<div>\n",
       "<style scoped>\n",
       "    .dataframe tbody tr th:only-of-type {\n",
       "        vertical-align: middle;\n",
       "    }\n",
       "\n",
       "    .dataframe tbody tr th {\n",
       "        vertical-align: top;\n",
       "    }\n",
       "\n",
       "    .dataframe thead th {\n",
       "        text-align: right;\n",
       "    }\n",
       "</style>\n",
       "<table border=\"1\" class=\"dataframe\">\n",
       "  <thead>\n",
       "    <tr style=\"text-align: right;\">\n",
       "      <th></th>\n",
       "      <th>Non</th>\n",
       "      <th>Oui</th>\n",
       "      <th>Total</th>\n",
       "    </tr>\n",
       "  </thead>\n",
       "  <tbody>\n",
       "    <tr>\n",
       "      <th>Non</th>\n",
       "      <td>3.0 (100.0%)</td>\n",
       "      <td>0.0 (0.0%)</td>\n",
       "      <td>3 (100%)</td>\n",
       "    </tr>\n",
       "    <tr>\n",
       "      <th>Oui</th>\n",
       "      <td>5.0 (62.5%)</td>\n",
       "      <td>3.0 (37.5%)</td>\n",
       "      <td>8 (100%)</td>\n",
       "    </tr>\n",
       "    <tr>\n",
       "      <th>Total</th>\n",
       "      <td>8.0 (72.7%)</td>\n",
       "      <td>3.0 (27.3%)</td>\n",
       "      <td>11 (100%)</td>\n",
       "    </tr>\n",
       "  </tbody>\n",
       "</table>\n",
       "</div>"
      ],
      "text/plain": [
       "                Non          Oui      Total\n",
       "Non    3.0 (100.0%)   0.0 (0.0%)   3 (100%)\n",
       "Oui     5.0 (62.5%)  3.0 (37.5%)   8 (100%)\n",
       "Total   8.0 (72.7%)  3.0 (27.3%)  11 (100%)"
      ]
     },
     "execution_count": 61,
     "metadata": {},
     "output_type": "execute_result"
    }
   ],
   "source": [
    "#!pip install pyshs\n",
    "import pyshs\n",
    "pyshs.tableau_croise(df,\"code_source\",\"utiliser_programmation\")"
   ]
  },
  {
   "cell_type": "code",
   "execution_count": 64,
   "id": "8725339d",
   "metadata": {},
   "outputs": [
    {
     "name": "stderr",
     "output_type": "stream",
     "text": [
      "/tmp/ipykernel_15143/2449691002.py:4: FutureWarning: As the xlwt package is no longer maintained, the xlwt engine will be removed in a future version of pandas. This is the only engine in pandas that supports writing in the xls format. Install openpyxl and write to an xlsx file instead. You can set the option io.excel.xls.writer to 'xlwt' to silence this warning. While this option is deprecated and will also raise a warning, it can be globally set and the warning suppressed.\n",
      "  pd.concat(tableau,axis=1).to_excel(\"tableau_distribution_univariee.xls\")\n"
     ]
    }
   ],
   "source": [
    "tableau = {}\n",
    "for variable in df.columns[0:10]:\n",
    "    tableau[variable] = df[variable].value_counts()\n",
    "pd.concat(tableau,axis=1).to_excel(\"tableau_distribution_univariee.xls\")"
   ]
  },
  {
   "cell_type": "code",
   "execution_count": 71,
   "id": "03be7959",
   "metadata": {},
   "outputs": [
    {
     "data": {
      "text/plain": [
       "<AxesSubplot:ylabel='code_source'>"
      ]
     },
     "execution_count": 71,
     "metadata": {},
     "output_type": "execute_result"
    },
    {
     "data": {
      "image/png": "[encoded data removed]",
      "text/plain": [
       "<Figure size 432x288 with 1 Axes>"
      ]
     },
     "metadata": {},
     "output_type": "display_data"
    }
   ],
   "source": [
    "df[\"code_source\"].value_counts().plot(kind=\"pie\")"
   ]
  },
  {
   "cell_type": "markdown",
   "id": "73c9007a",
   "metadata": {},
   "source": [
    "## Calcul d'un score"
   ]
  },
  {
   "cell_type": "code",
   "execution_count": 81,
   "id": "ca9f3069",
   "metadata": {},
   "outputs": [
    {
     "data": {
      "text/plain": [
       "<AxesSubplot:ylabel='Frequency'>"
      ]
     },
     "execution_count": 81,
     "metadata": {},
     "output_type": "execute_result"
    },
    {
     "data": {
      "image/png": "[encoded data removed]",
      "text/plain": [
       "<Figure size 432x288 with 1 Axes>"
      ]
     },
     "metadata": {
      "needs_background": "light"
     },
     "output_type": "display_data"
    }
   ],
   "source": [
    "score = df[df.columns[0:10]].replace({\"Oui\":1,\"Non\":0}).sum(axis=1)/10\n",
    "score.plot(kind=\"hist\",bins=4)"
   ]
  },
  {
   "cell_type": "code",
   "execution_count": 86,
   "id": "bfa77692",
   "metadata": {},
   "outputs": [
    {
     "data": {
      "text/html": [
       "<div>\n",
       "<style scoped>\n",
       "    .dataframe tbody tr th:only-of-type {\n",
       "        vertical-align: middle;\n",
       "    }\n",
       "\n",
       "    .dataframe tbody tr th {\n",
       "        vertical-align: top;\n",
       "    }\n",
       "\n",
       "    .dataframe thead th {\n",
       "        text-align: right;\n",
       "    }\n",
       "</style>\n",
       "<table border=\"1\" class=\"dataframe\">\n",
       "  <thead>\n",
       "    <tr style=\"text-align: right;\">\n",
       "      <th></th>\n",
       "      <th>role_ordinateur</th>\n",
       "      <th>code_source</th>\n",
       "      <th>fichier_csv</th>\n",
       "      <th>base_langage</th>\n",
       "      <th>boucle</th>\n",
       "      <th>utiliser_programmation</th>\n",
       "      <th>reconnaitre_python</th>\n",
       "      <th>console_python</th>\n",
       "      <th>programmation_python</th>\n",
       "      <th>fonction_python</th>\n",
       "      <th>pandas</th>\n",
       "      <th>superposer_graphique</th>\n",
       "      <th>idee_application</th>\n",
       "      <th>aspect_interet</th>\n",
       "    </tr>\n",
       "  </thead>\n",
       "  <tbody>\n",
       "    <tr>\n",
       "      <th>8</th>\n",
       "      <td>Non</td>\n",
       "      <td>Non</td>\n",
       "      <td>Non</td>\n",
       "      <td>Non</td>\n",
       "      <td>Non</td>\n",
       "      <td>Non</td>\n",
       "      <td>Non</td>\n",
       "      <td>Non</td>\n",
       "      <td>Non</td>\n",
       "      <td>Non</td>\n",
       "      <td>Non</td>\n",
       "      <td>Non</td>\n",
       "      <td>Non! Je l'apprendrai grâce à votre formation</td>\n",
       "      <td>Oui!</td>\n",
       "    </tr>\n",
       "    <tr>\n",
       "      <th>9</th>\n",
       "      <td>Oui</td>\n",
       "      <td>Non</td>\n",
       "      <td>Oui</td>\n",
       "      <td>Oui</td>\n",
       "      <td>Non</td>\n",
       "      <td>Non</td>\n",
       "      <td>Non</td>\n",
       "      <td>Non</td>\n",
       "      <td>Non</td>\n",
       "      <td>Oui</td>\n",
       "      <td>Non</td>\n",
       "      <td>Non</td>\n",
       "      <td>NaN</td>\n",
       "      <td>NaN</td>\n",
       "    </tr>\n",
       "    <tr>\n",
       "      <th>10</th>\n",
       "      <td>Oui</td>\n",
       "      <td>Non</td>\n",
       "      <td>Oui</td>\n",
       "      <td>Non</td>\n",
       "      <td>Non</td>\n",
       "      <td>Non</td>\n",
       "      <td>Non</td>\n",
       "      <td>Non</td>\n",
       "      <td>Non</td>\n",
       "      <td>Non</td>\n",
       "      <td>Non</td>\n",
       "      <td>Non</td>\n",
       "      <td>Pas encore avec Python.</td>\n",
       "      <td>Le lexique et les bases essentielles à la pris...</td>\n",
       "    </tr>\n",
       "  </tbody>\n",
       "</table>\n",
       "</div>"
      ],
      "text/plain": [
       "   role_ordinateur code_source fichier_csv base_langage boucle  \\\n",
       "8              Non         Non         Non          Non    Non   \n",
       "9              Oui         Non         Oui          Oui    Non   \n",
       "10             Oui         Non         Oui          Non    Non   \n",
       "\n",
       "   utiliser_programmation reconnaitre_python console_python  \\\n",
       "8                     Non                Non            Non   \n",
       "9                     Non                Non            Non   \n",
       "10                    Non                Non            Non   \n",
       "\n",
       "   programmation_python fonction_python pandas superposer_graphique  \\\n",
       "8                   Non             Non    Non                  Non   \n",
       "9                   Non             Oui    Non                  Non   \n",
       "10                  Non             Non    Non                  Non   \n",
       "\n",
       "                                 idee_application  \\\n",
       "8   Non! Je l'apprendrai grâce à votre formation    \n",
       "9                                             NaN   \n",
       "10                        Pas encore avec Python.   \n",
       "\n",
       "                                       aspect_interet  \n",
       "8                                               Oui!   \n",
       "9                                                 NaN  \n",
       "10  Le lexique et les bases essentielles à la pris...  "
      ]
     },
     "execution_count": 86,
     "metadata": {},
     "output_type": "execute_result"
    }
   ],
   "source": [
    "filtre = df[\"code_source\"]==\"Non\"\n",
    "df[filtre]"
   ]
  },
  {
   "cell_type": "code",
   "execution_count": 92,
   "id": "cc4a1d62",
   "metadata": {},
   "outputs": [
    {
     "data": {
      "text/html": [
       "<div>\n",
       "<style scoped>\n",
       "    .dataframe tbody tr th:only-of-type {\n",
       "        vertical-align: middle;\n",
       "    }\n",
       "\n",
       "    .dataframe tbody tr th {\n",
       "        vertical-align: top;\n",
       "    }\n",
       "\n",
       "    .dataframe thead th {\n",
       "        text-align: right;\n",
       "    }\n",
       "</style>\n",
       "<table border=\"1\" class=\"dataframe\">\n",
       "  <thead>\n",
       "    <tr style=\"text-align: right;\">\n",
       "      <th></th>\n",
       "      <th>role_ordinateur</th>\n",
       "      <th>code_source</th>\n",
       "      <th>fichier_csv</th>\n",
       "      <th>base_langage</th>\n",
       "      <th>boucle</th>\n",
       "      <th>utiliser_programmation</th>\n",
       "      <th>reconnaitre_python</th>\n",
       "      <th>console_python</th>\n",
       "      <th>programmation_python</th>\n",
       "      <th>fonction_python</th>\n",
       "      <th>pandas</th>\n",
       "      <th>superposer_graphique</th>\n",
       "      <th>idee_application</th>\n",
       "      <th>aspect_interet</th>\n",
       "    </tr>\n",
       "  </thead>\n",
       "  <tbody>\n",
       "    <tr>\n",
       "      <th>3</th>\n",
       "      <td>Oui</td>\n",
       "      <td>Oui</td>\n",
       "      <td>Oui</td>\n",
       "      <td>Non</td>\n",
       "      <td>Oui</td>\n",
       "      <td>Non</td>\n",
       "      <td>Non</td>\n",
       "      <td>Non</td>\n",
       "      <td>Non</td>\n",
       "      <td>Non</td>\n",
       "      <td>Non</td>\n",
       "      <td>Non</td>\n",
       "      <td>Traitement de données textuelles extraites de ...</td>\n",
       "      <td>Connaîte les bases, non pas pour devenir exper...</td>\n",
       "    </tr>\n",
       "    <tr>\n",
       "      <th>4</th>\n",
       "      <td>Oui</td>\n",
       "      <td>Oui</td>\n",
       "      <td>Non</td>\n",
       "      <td>Non</td>\n",
       "      <td>Non</td>\n",
       "      <td>Non</td>\n",
       "      <td>Non</td>\n",
       "      <td>Non</td>\n",
       "      <td>Non</td>\n",
       "      <td>Non</td>\n",
       "      <td>Non</td>\n",
       "      <td>Non</td>\n",
       "      <td>non</td>\n",
       "      <td>NaN</td>\n",
       "    </tr>\n",
       "    <tr>\n",
       "      <th>5</th>\n",
       "      <td>Oui</td>\n",
       "      <td>Oui</td>\n",
       "      <td>Oui</td>\n",
       "      <td>Non</td>\n",
       "      <td>Oui</td>\n",
       "      <td>Non</td>\n",
       "      <td>Non</td>\n",
       "      <td>Non</td>\n",
       "      <td>Non</td>\n",
       "      <td>Non</td>\n",
       "      <td>Non</td>\n",
       "      <td>Non</td>\n",
       "      <td>NaN</td>\n",
       "      <td>Découvrir le langage de programmation Python</td>\n",
       "    </tr>\n",
       "    <tr>\n",
       "      <th>6</th>\n",
       "      <td>Oui</td>\n",
       "      <td>Oui</td>\n",
       "      <td>Oui</td>\n",
       "      <td>Non</td>\n",
       "      <td>Oui</td>\n",
       "      <td>Non</td>\n",
       "      <td>Non</td>\n",
       "      <td>Non</td>\n",
       "      <td>Non</td>\n",
       "      <td>Non</td>\n",
       "      <td>Non</td>\n",
       "      <td>Non</td>\n",
       "      <td>Automatiser des actions, traitement en lot</td>\n",
       "      <td>Savoir déchiffrer, comprendre un script écrit ...</td>\n",
       "    </tr>\n",
       "    <tr>\n",
       "      <th>7</th>\n",
       "      <td>Oui</td>\n",
       "      <td>Oui</td>\n",
       "      <td>Oui</td>\n",
       "      <td>Non</td>\n",
       "      <td>Oui</td>\n",
       "      <td>Non</td>\n",
       "      <td>Non</td>\n",
       "      <td>Non</td>\n",
       "      <td>Non</td>\n",
       "      <td>Non</td>\n",
       "      <td>Non</td>\n",
       "      <td>Non</td>\n",
       "      <td>Faire des traitement en lots et automatiser de...</td>\n",
       "      <td>Acquérir les bases pour comprendre les scripts...</td>\n",
       "    </tr>\n",
       "    <tr>\n",
       "      <th>8</th>\n",
       "      <td>Non</td>\n",
       "      <td>Non</td>\n",
       "      <td>Non</td>\n",
       "      <td>Non</td>\n",
       "      <td>Non</td>\n",
       "      <td>Non</td>\n",
       "      <td>Non</td>\n",
       "      <td>Non</td>\n",
       "      <td>Non</td>\n",
       "      <td>Non</td>\n",
       "      <td>Non</td>\n",
       "      <td>Non</td>\n",
       "      <td>Non! Je l'apprendrai grâce à votre formation</td>\n",
       "      <td>Oui!</td>\n",
       "    </tr>\n",
       "    <tr>\n",
       "      <th>10</th>\n",
       "      <td>Oui</td>\n",
       "      <td>Non</td>\n",
       "      <td>Oui</td>\n",
       "      <td>Non</td>\n",
       "      <td>Non</td>\n",
       "      <td>Non</td>\n",
       "      <td>Non</td>\n",
       "      <td>Non</td>\n",
       "      <td>Non</td>\n",
       "      <td>Non</td>\n",
       "      <td>Non</td>\n",
       "      <td>Non</td>\n",
       "      <td>Pas encore avec Python.</td>\n",
       "      <td>Le lexique et les bases essentielles à la pris...</td>\n",
       "    </tr>\n",
       "  </tbody>\n",
       "</table>\n",
       "</div>"
      ],
      "text/plain": [
       "   role_ordinateur code_source fichier_csv base_langage boucle  \\\n",
       "3              Oui         Oui         Oui          Non    Oui   \n",
       "4              Oui         Oui         Non          Non    Non   \n",
       "5              Oui         Oui         Oui          Non    Oui   \n",
       "6              Oui         Oui         Oui          Non    Oui   \n",
       "7              Oui         Oui         Oui          Non    Oui   \n",
       "8              Non         Non         Non          Non    Non   \n",
       "10             Oui         Non         Oui          Non    Non   \n",
       "\n",
       "   utiliser_programmation reconnaitre_python console_python  \\\n",
       "3                     Non                Non            Non   \n",
       "4                     Non                Non            Non   \n",
       "5                     Non                Non            Non   \n",
       "6                     Non                Non            Non   \n",
       "7                     Non                Non            Non   \n",
       "8                     Non                Non            Non   \n",
       "10                    Non                Non            Non   \n",
       "\n",
       "   programmation_python fonction_python pandas superposer_graphique  \\\n",
       "3                   Non             Non    Non                  Non   \n",
       "4                   Non             Non    Non                  Non   \n",
       "5                   Non             Non    Non                  Non   \n",
       "6                   Non             Non    Non                  Non   \n",
       "7                   Non             Non    Non                  Non   \n",
       "8                   Non             Non    Non                  Non   \n",
       "10                  Non             Non    Non                  Non   \n",
       "\n",
       "                                     idee_application  \\\n",
       "3   Traitement de données textuelles extraites de ...   \n",
       "4                                                 non   \n",
       "5                                                 NaN   \n",
       "6          Automatiser des actions, traitement en lot   \n",
       "7   Faire des traitement en lots et automatiser de...   \n",
       "8       Non! Je l'apprendrai grâce à votre formation    \n",
       "10                            Pas encore avec Python.   \n",
       "\n",
       "                                       aspect_interet  \n",
       "3   Connaîte les bases, non pas pour devenir exper...  \n",
       "4                                                 NaN  \n",
       "5        Découvrir le langage de programmation Python  \n",
       "6   Savoir déchiffrer, comprendre un script écrit ...  \n",
       "7   Acquérir les bases pour comprendre les scripts...  \n",
       "8                                               Oui!   \n",
       "10  Le lexique et les bases essentielles à la pris...  "
      ]
     },
     "execution_count": 92,
     "metadata": {},
     "output_type": "execute_result"
    }
   ],
   "source": [
    "filtre = pd.notnull(df[\"idee_application\"]) | pd.notnull(df[\"aspect_interet\"])\n",
    "df[filtre]"
   ]
  },
  {
   "cell_type": "code",
   "execution_count": 100,
   "id": "24b45d90",
   "metadata": {},
   "outputs": [
    {
     "data": {
      "text/plain": [
       "traitement      3\n",
       "des             3\n",
       "automatiser     2\n",
       "en              2\n",
       "de              2\n",
       "à               2\n",
       "formation       1\n",
       "votre           1\n",
       "grâce           1\n",
       "l'apprendrai    1\n",
       "faire           1\n",
       "je              1\n",
       "non!            1\n",
       "opérations.     1\n",
       "et              1\n",
       "                1\n",
       "pas             1\n",
       "encore          1\n",
       "avec            1\n",
       "lots            1\n",
       "actions,        1\n",
       "lot             1\n",
       "non             1\n",
       "\\n              1\n",
       "dates.          1\n",
       "différentes     1\n",
       "site            1\n",
       "d'un            1\n",
       "issu            1\n",
       "html            1\n",
       "fichiers        1\n",
       "extraites       1\n",
       "textuelles      1\n",
       "données         1\n",
       "python.         1\n",
       "dtype: int64"
      ]
     },
     "execution_count": 100,
     "metadata": {},
     "output_type": "execute_result"
    }
   ],
   "source": [
    "textes = list(df[\"idee_application\"].dropna())\n",
    "textes_decomposes = [texte.lower().split(\" \") for texte in textes]\n",
    "pd.Series([mot for texte in textes_decomposes for mot in texte]).value_counts()"
   ]
  }
 ],
 "metadata": {
  "kernelspec": {
   "display_name": "Python 3 (ipykernel)",
   "language": "python",
   "name": "python3"
  },
  "language_info": {
   "codemirror_mode": {
    "name": "ipython",
    "version": 3
   },
   "file_extension": ".py",
   "mimetype": "text/x-python",
   "name": "python",
   "nbconvert_exporter": "python",
   "pygments_lexer": "ipython3",
   "version": "3.9.12"
  }
 },
 "nbformat": 4,
 "nbformat_minor": 5
}
