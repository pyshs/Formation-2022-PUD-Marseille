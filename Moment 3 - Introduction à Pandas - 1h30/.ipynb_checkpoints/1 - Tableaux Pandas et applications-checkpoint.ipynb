{
 "cells": [
  {
   "cell_type": "markdown",
   "metadata": {},
   "source": [
    "# Utiliser Pandas\n",
    "\n",
    "Un monde  à part entière. Comme pour Excel, des personnes se spécialisent dans Pandas"
   ]
  },
  {
   "cell_type": "markdown",
   "metadata": {},
   "source": [
    "## Importer Pandas"
   ]
  },
  {
   "cell_type": "code",
   "execution_count": 1,
   "metadata": {},
   "outputs": [],
   "source": [
    "import pandas as pd"
   ]
  },
  {
   "cell_type": "markdown",
   "metadata": {},
   "source": [
    "Créer un tableau"
   ]
  },
  {
   "cell_type": "code",
   "execution_count": 2,
   "metadata": {},
   "outputs": [
    {
     "data": {
      "text/html": [
       "<div>\n",
       "<style scoped>\n",
       "    .dataframe tbody tr th:only-of-type {\n",
       "        vertical-align: middle;\n",
       "    }\n",
       "\n",
       "    .dataframe tbody tr th {\n",
       "        vertical-align: top;\n",
       "    }\n",
       "\n",
       "    .dataframe thead th {\n",
       "        text-align: right;\n",
       "    }\n",
       "</style>\n",
       "<table border=\"1\" class=\"dataframe\">\n",
       "  <thead>\n",
       "    <tr style=\"text-align: right;\">\n",
       "      <th></th>\n",
       "      <th>Colonne 1</th>\n",
       "      <th>Colonne 2</th>\n",
       "    </tr>\n",
       "  </thead>\n",
       "  <tbody>\n",
       "    <tr>\n",
       "      <th>0</th>\n",
       "      <td>A</td>\n",
       "      <td>1</td>\n",
       "    </tr>\n",
       "    <tr>\n",
       "      <th>1</th>\n",
       "      <td>B</td>\n",
       "      <td>2</td>\n",
       "    </tr>\n",
       "    <tr>\n",
       "      <th>2</th>\n",
       "      <td>C</td>\n",
       "      <td>3</td>\n",
       "    </tr>\n",
       "  </tbody>\n",
       "</table>\n",
       "</div>"
      ],
      "text/plain": [
       "  Colonne 1  Colonne 2\n",
       "0         A          1\n",
       "1         B          2\n",
       "2         C          3"
      ]
     },
     "execution_count": 2,
     "metadata": {},
     "output_type": "execute_result"
    }
   ],
   "source": [
    "pd.DataFrame({\"Colonne 1\":[\"A\",\"B\",\"C\"],\n",
    " \"Colonne 2\" : [1,2,3]})"
   ]
  },
  {
   "cell_type": "markdown",
   "metadata": {},
   "source": [
    "<p style=\"margin-bottom:15cm;\"></p>"
   ]
  },
  {
   "cell_type": "markdown",
   "metadata": {},
   "source": [
    "Récupérer un fichier : https://framaforms.org/node/494716/webform-results/download"
   ]
  },
  {
   "cell_type": "markdown",
   "metadata": {},
   "source": [
    "## Localiser un fichier\n",
    "\n",
    "Se déplacer dans l'ordinateur pour ouvrir un fichier"
   ]
  },
  {
   "cell_type": "code",
   "execution_count": 3,
   "metadata": {},
   "outputs": [
    {
     "name": "stdout",
     "output_type": "stream",
     "text": [
      "C:\\Users\\eschultz\\Dropbox\\Python pour les SHS\\Formations\\2022-03-23 URFIST Marseille\\Moment 4 - Introduction à Pandas\n"
     ]
    }
   ],
   "source": [
    "cd ."
   ]
  },
  {
   "cell_type": "code",
   "execution_count": 4,
   "metadata": {},
   "outputs": [
    {
     "name": "stdout",
     "output_type": "stream",
     "text": [
      " Le volume dans le lecteur C s’appelle OS\n",
      " Le numéro de série du volume est 9081-DA08\n",
      "\n",
      " Répertoire de C:\\Users\\eschultz\\Dropbox\\Python pour les SHS\\Formations\\2022-03-23 URFIST Marseille\\Moment 4 - Introduction à Pandas\n",
      "\n",
      "21/03/2022  09:48    <DIR>          .\n",
      "21/03/2022  09:48    <DIR>          ..\n",
      "21/03/2022  09:48    <DIR>          .ipynb_checkpoints\n",
      "21/03/2022  09:46    <DIR>          slides\n",
      "08/12/2021  18:02            15 009 Temps 1 - Manipuler des données avec Pandas.ipynb\n",
      "08/12/2021  18:03               718 Temps 2 - Exercice.ipynb\n",
      "               2 fichier(s)           15 727 octets\n",
      "               4 Rép(s)  144 897 175 552 octets libres\n"
     ]
    }
   ],
   "source": [
    "ls ."
   ]
  },
  {
   "cell_type": "markdown",
   "metadata": {},
   "source": [
    "## Charger un fichier\n",
    "\n",
    "Pandas facilite les opérations d'ouverte/écriture"
   ]
  },
  {
   "cell_type": "markdown",
   "metadata": {},
   "source": [
    "Visualiser"
   ]
  },
  {
   "cell_type": "markdown",
   "metadata": {},
   "source": [
    "- Structure de la matrice\n",
    "- Accéder à un élément : colonne, ligne ; type des données avec dtypes\n",
    "- Sélectionner : loc, iloc\n",
    "- Filtrer : définition d'un filtrage, créer une conditions sur une colonne\n",
    "- Différentes méthodes de Pandas : str, stats\n",
    "- Différentes fonctions de Pandas bien utile : isnull, notnull"
   ]
  },
  {
   "cell_type": "markdown",
   "metadata": {},
   "source": [
    "## Manipuler les données - ajout de features\n",
    "\n",
    "- créer une nouvelle colonne (présence/absence d'un mot)\n",
    "- appliquer une fonction sur toute la colonne - méthode apply\n",
    " - recoder le nom du journal\n",
    "- sauvegarder le tableau"
   ]
  },
  {
   "cell_type": "markdown",
   "metadata": {},
   "source": [
    "## Statistiques de base\n",
    "\n",
    "- faire un dénombrement\n",
    "- Tout est tableau : faire des tableaux plus complexes\n",
    "- Calculer différents indicateurs\n",
    "- Faire un tableau croisé\n",
    "- Faire une visualisation \"out of the box\""
   ]
  }
 ],
 "metadata": {
  "kernelspec": {
   "display_name": "Python 3 (ipykernel)",
   "language": "python",
   "name": "python3"
  },
  "language_info": {
   "codemirror_mode": {
    "name": "ipython",
    "version": 3
   },
   "file_extension": ".py",
   "mimetype": "text/x-python",
   "name": "python",
   "nbconvert_exporter": "python",
   "pygments_lexer": "ipython3",
   "version": "3.9.7"
  }
 },
 "nbformat": 4,
 "nbformat_minor": 4
}
